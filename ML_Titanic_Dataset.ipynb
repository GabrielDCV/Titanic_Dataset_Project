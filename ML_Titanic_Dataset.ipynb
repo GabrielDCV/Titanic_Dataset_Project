{
  "nbformat": 4,
  "nbformat_minor": 0,
  "metadata": {
    "colab": {
      "provenance": []
    },
    "kernelspec": {
      "name": "python3",
      "display_name": "Python 3"
    },
    "language_info": {
      "name": "python"
    }
  },
  "cells": [
    {
      "cell_type": "markdown",
      "source": [
        "*Link Dataset: https://www.kaggle.com/c/titanic/data*\n",
        "\n",
        "*Dataset construido por:*\n",
        "\n",
        "*Gabriel de Carvalho Vasconcelos gcv@cesar.school*\n",
        "\n",
        "*Eduardo Vaz de Oliveira Gerab evog@cesar.school*"
      ],
      "metadata": {
        "id": "jXaBtwOvHomE"
      }
    },
    {
      "cell_type": "markdown",
      "source": [
        "# **Titanic Dataset**\n",
        "\n",
        "##**Dicionário de Dados**\n",
        "| Coluna          | Descrição                                           | Valores          | Tipo de Dado                                            |\n",
        "| ------------- | --------------------------------------------------- | ---------------- | ------------------------------------------------ |\n",
        "| Survival      | Sobrevivente                      | 0 = Não, 1 = Sim | Qualitativo e Nominal                    |\n",
        "| Pclass        | Classe do bilhete                                  | 1 = 1ªClasse, 2 = 2ªClasse, 3 = 3ªClasse | Qualitativo e Ordinal  |\n",
        "| Sex           | Sexo do passageiro                                 | Male, Female     | Qualitativo e Nominal                                                 |\n",
        "| Age           | Idade do passageiro                                | Valor numérico   | Numérico           |\n",
        "| SibSp         | Número de irmãos/cônjuges a bordo                  | Valor numérico   | Qualitativo e Nominal                   |\n",
        "| Parch         | Número de pais/filhos a bordo                      | Valor numérico   | Qualitativo e Nominal                   |\n",
        "| Ticket        | Número do bilhete                                  | Valor alfanumérico | Literal |\n",
        "| Fare          | Tarifa paga pelo passageiro                        | Valor numérico   | Numérico        |\n",
        "| Cabin         | Número da cabine                                   | Valor alfanumérico | Literal  |\n",
        "| Embarked      | Porto de embarcação                                | C = Cherbourg, Q = Queenstown, S = Southampton | Qualitativo e Nominal        |"
      ],
      "metadata": {
        "id": "oXZM91Gsr9sM"
      }
    },
    {
      "cell_type": "markdown",
      "source": [
        "### Mounting & Importing"
      ],
      "metadata": {
        "id": "h_lOcLscOiVW"
      }
    },
    {
      "cell_type": "code",
      "execution_count": null,
      "metadata": {
        "id": "KryFmYrYZNje"
      },
      "outputs": [],
      "source": [
        "from google.colab import drive\n",
        "import pandas as pd\n",
        "import numpy as np\n",
        "import seaborn as sns\n",
        "import pylab as py\n",
        "import matplotlib.pyplot as plt\n",
        "from scipy.stats import shapiro\n",
        "from sklearn.preprocessing import QuantileTransformer\n",
        "from sklearn.model_selection import train_test_split\n",
        "from sklearn.metrics import accuracy_score\n",
        "from sklearn.neighbors import KNeighborsClassifier\n",
        "from sklearn.metrics import confusion_matrix\n",
        "from sklearn.metrics import classification_report\n",
        "from sklearn.preprocessing import RobustScaler\n",
        "from sklearn.model_selection import cross_val_predict, cross_val_score"
      ]
    },
    {
      "cell_type": "code",
      "source": [
        "drive.mount('/content/gdrive')"
      ],
      "metadata": {
        "id": "jookK5FuZTHj",
        "colab": {
          "base_uri": "https://localhost:8080/"
        },
        "outputId": "1a8dda62-d395-4777-d9bb-6ad88640cb24"
      },
      "execution_count": null,
      "outputs": [
        {
          "output_type": "stream",
          "name": "stdout",
          "text": [
            "Drive already mounted at /content/gdrive; to attempt to forcibly remount, call drive.mount(\"/content/gdrive\", force_remount=True).\n"
          ]
        }
      ]
    },
    {
      "cell_type": "code",
      "source": [
        "titanic = pd.read_csv('/content/gdrive/MyDrive/Colab Notebooks/Dados/titanic.csv')"
      ],
      "metadata": {
        "id": "53j7tBmfZi1N"
      },
      "execution_count": null,
      "outputs": []
    },
    {
      "cell_type": "markdown",
      "source": [
        "## **Descrição dos Dados**"
      ],
      "metadata": {
        "id": "aEN3bp-tkr67"
      }
    },
    {
      "cell_type": "code",
      "source": [
        "titanic.head()"
      ],
      "metadata": {
        "id": "-nEeeKCvGuba",
        "colab": {
          "base_uri": "https://localhost:8080/"
        },
        "outputId": "4f47d0b9-a9fd-443c-f372-3785bc5115ca"
      },
      "execution_count": null,
      "outputs": [
        {
          "output_type": "execute_result",
          "data": {
            "text/plain": [
              "   PassengerId  Survived  Pclass  \\\n",
              "0            1         0       3   \n",
              "1            2         1       1   \n",
              "2            3         1       3   \n",
              "3            4         1       1   \n",
              "4            5         0       3   \n",
              "\n",
              "                                                Name     Sex   Age  SibSp  \\\n",
              "0                            Braund, Mr. Owen Harris    male  22.0      1   \n",
              "1  Cumings, Mrs. John Bradley (Florence Briggs Th...  female  38.0      1   \n",
              "2                             Heikkinen, Miss. Laina  female  26.0      0   \n",
              "3       Futrelle, Mrs. Jacques Heath (Lily May Peel)  female  35.0      1   \n",
              "4                           Allen, Mr. William Henry    male  35.0      0   \n",
              "\n",
              "   Parch            Ticket     Fare Cabin Embarked  \n",
              "0      0         A/5 21171   7.2500   NaN        S  \n",
              "1      0          PC 17599  71.2833   C85        C  \n",
              "2      0  STON/O2. 3101282   7.9250   NaN        S  \n",
              "3      0            113803  53.1000  C123        S  \n",
              "4      0            373450   8.0500   NaN        S  "
            ],
            "text/html": [
              "\n",
              "  <div id=\"df-d6025659-9921-4024-a427-a63c107f20c6\" class=\"colab-df-container\">\n",
              "    <div>\n",
              "<style scoped>\n",
              "    .dataframe tbody tr th:only-of-type {\n",
              "        vertical-align: middle;\n",
              "    }\n",
              "\n",
              "    .dataframe tbody tr th {\n",
              "        vertical-align: top;\n",
              "    }\n",
              "\n",
              "    .dataframe thead th {\n",
              "        text-align: right;\n",
              "    }\n",
              "</style>\n",
              "<table border=\"1\" class=\"dataframe\">\n",
              "  <thead>\n",
              "    <tr style=\"text-align: right;\">\n",
              "      <th></th>\n",
              "      <th>PassengerId</th>\n",
              "      <th>Survived</th>\n",
              "      <th>Pclass</th>\n",
              "      <th>Name</th>\n",
              "      <th>Sex</th>\n",
              "      <th>Age</th>\n",
              "      <th>SibSp</th>\n",
              "      <th>Parch</th>\n",
              "      <th>Ticket</th>\n",
              "      <th>Fare</th>\n",
              "      <th>Cabin</th>\n",
              "      <th>Embarked</th>\n",
              "    </tr>\n",
              "  </thead>\n",
              "  <tbody>\n",
              "    <tr>\n",
              "      <th>0</th>\n",
              "      <td>1</td>\n",
              "      <td>0</td>\n",
              "      <td>3</td>\n",
              "      <td>Braund, Mr. Owen Harris</td>\n",
              "      <td>male</td>\n",
              "      <td>22.0</td>\n",
              "      <td>1</td>\n",
              "      <td>0</td>\n",
              "      <td>A/5 21171</td>\n",
              "      <td>7.2500</td>\n",
              "      <td>NaN</td>\n",
              "      <td>S</td>\n",
              "    </tr>\n",
              "    <tr>\n",
              "      <th>1</th>\n",
              "      <td>2</td>\n",
              "      <td>1</td>\n",
              "      <td>1</td>\n",
              "      <td>Cumings, Mrs. John Bradley (Florence Briggs Th...</td>\n",
              "      <td>female</td>\n",
              "      <td>38.0</td>\n",
              "      <td>1</td>\n",
              "      <td>0</td>\n",
              "      <td>PC 17599</td>\n",
              "      <td>71.2833</td>\n",
              "      <td>C85</td>\n",
              "      <td>C</td>\n",
              "    </tr>\n",
              "    <tr>\n",
              "      <th>2</th>\n",
              "      <td>3</td>\n",
              "      <td>1</td>\n",
              "      <td>3</td>\n",
              "      <td>Heikkinen, Miss. Laina</td>\n",
              "      <td>female</td>\n",
              "      <td>26.0</td>\n",
              "      <td>0</td>\n",
              "      <td>0</td>\n",
              "      <td>STON/O2. 3101282</td>\n",
              "      <td>7.9250</td>\n",
              "      <td>NaN</td>\n",
              "      <td>S</td>\n",
              "    </tr>\n",
              "    <tr>\n",
              "      <th>3</th>\n",
              "      <td>4</td>\n",
              "      <td>1</td>\n",
              "      <td>1</td>\n",
              "      <td>Futrelle, Mrs. Jacques Heath (Lily May Peel)</td>\n",
              "      <td>female</td>\n",
              "      <td>35.0</td>\n",
              "      <td>1</td>\n",
              "      <td>0</td>\n",
              "      <td>113803</td>\n",
              "      <td>53.1000</td>\n",
              "      <td>C123</td>\n",
              "      <td>S</td>\n",
              "    </tr>\n",
              "    <tr>\n",
              "      <th>4</th>\n",
              "      <td>5</td>\n",
              "      <td>0</td>\n",
              "      <td>3</td>\n",
              "      <td>Allen, Mr. William Henry</td>\n",
              "      <td>male</td>\n",
              "      <td>35.0</td>\n",
              "      <td>0</td>\n",
              "      <td>0</td>\n",
              "      <td>373450</td>\n",
              "      <td>8.0500</td>\n",
              "      <td>NaN</td>\n",
              "      <td>S</td>\n",
              "    </tr>\n",
              "  </tbody>\n",
              "</table>\n",
              "</div>\n",
              "    <div class=\"colab-df-buttons\">\n",
              "\n",
              "  <div class=\"colab-df-container\">\n",
              "    <button class=\"colab-df-convert\" onclick=\"convertToInteractive('df-d6025659-9921-4024-a427-a63c107f20c6')\"\n",
              "            title=\"Convert this dataframe to an interactive table.\"\n",
              "            style=\"display:none;\">\n",
              "\n",
              "  <svg xmlns=\"http://www.w3.org/2000/svg\" height=\"24px\" viewBox=\"0 -960 960 960\">\n",
              "    <path d=\"M120-120v-720h720v720H120Zm60-500h600v-160H180v160Zm220 220h160v-160H400v160Zm0 220h160v-160H400v160ZM180-400h160v-160H180v160Zm440 0h160v-160H620v160ZM180-180h160v-160H180v160Zm440 0h160v-160H620v160Z\"/>\n",
              "  </svg>\n",
              "    </button>\n",
              "\n",
              "  <style>\n",
              "    .colab-df-container {\n",
              "      display:flex;\n",
              "      gap: 12px;\n",
              "    }\n",
              "\n",
              "    .colab-df-convert {\n",
              "      background-color: #E8F0FE;\n",
              "      border: none;\n",
              "      border-radius: 50%;\n",
              "      cursor: pointer;\n",
              "      display: none;\n",
              "      fill: #1967D2;\n",
              "      height: 32px;\n",
              "      padding: 0 0 0 0;\n",
              "      width: 32px;\n",
              "    }\n",
              "\n",
              "    .colab-df-convert:hover {\n",
              "      background-color: #E2EBFA;\n",
              "      box-shadow: 0px 1px 2px rgba(60, 64, 67, 0.3), 0px 1px 3px 1px rgba(60, 64, 67, 0.15);\n",
              "      fill: #174EA6;\n",
              "    }\n",
              "\n",
              "    .colab-df-buttons div {\n",
              "      margin-bottom: 4px;\n",
              "    }\n",
              "\n",
              "    [theme=dark] .colab-df-convert {\n",
              "      background-color: #3B4455;\n",
              "      fill: #D2E3FC;\n",
              "    }\n",
              "\n",
              "    [theme=dark] .colab-df-convert:hover {\n",
              "      background-color: #434B5C;\n",
              "      box-shadow: 0px 1px 3px 1px rgba(0, 0, 0, 0.15);\n",
              "      filter: drop-shadow(0px 1px 2px rgba(0, 0, 0, 0.3));\n",
              "      fill: #FFFFFF;\n",
              "    }\n",
              "  </style>\n",
              "\n",
              "    <script>\n",
              "      const buttonEl =\n",
              "        document.querySelector('#df-d6025659-9921-4024-a427-a63c107f20c6 button.colab-df-convert');\n",
              "      buttonEl.style.display =\n",
              "        google.colab.kernel.accessAllowed ? 'block' : 'none';\n",
              "\n",
              "      async function convertToInteractive(key) {\n",
              "        const element = document.querySelector('#df-d6025659-9921-4024-a427-a63c107f20c6');\n",
              "        const dataTable =\n",
              "          await google.colab.kernel.invokeFunction('convertToInteractive',\n",
              "                                                    [key], {});\n",
              "        if (!dataTable) return;\n",
              "\n",
              "        const docLinkHtml = 'Like what you see? Visit the ' +\n",
              "          '<a target=\"_blank\" href=https://colab.research.google.com/notebooks/data_table.ipynb>data table notebook</a>'\n",
              "          + ' to learn more about interactive tables.';\n",
              "        element.innerHTML = '';\n",
              "        dataTable['output_type'] = 'display_data';\n",
              "        await google.colab.output.renderOutput(dataTable, element);\n",
              "        const docLink = document.createElement('div');\n",
              "        docLink.innerHTML = docLinkHtml;\n",
              "        element.appendChild(docLink);\n",
              "      }\n",
              "    </script>\n",
              "  </div>\n",
              "\n",
              "\n",
              "<div id=\"df-8636b8c3-a1b8-4e5a-880f-03e742ffe8b5\">\n",
              "  <button class=\"colab-df-quickchart\" onclick=\"quickchart('df-8636b8c3-a1b8-4e5a-880f-03e742ffe8b5')\"\n",
              "            title=\"Suggest charts.\"\n",
              "            style=\"display:none;\">\n",
              "\n",
              "<svg xmlns=\"http://www.w3.org/2000/svg\" height=\"24px\"viewBox=\"0 0 24 24\"\n",
              "     width=\"24px\">\n",
              "    <g>\n",
              "        <path d=\"M19 3H5c-1.1 0-2 .9-2 2v14c0 1.1.9 2 2 2h14c1.1 0 2-.9 2-2V5c0-1.1-.9-2-2-2zM9 17H7v-7h2v7zm4 0h-2V7h2v10zm4 0h-2v-4h2v4z\"/>\n",
              "    </g>\n",
              "</svg>\n",
              "  </button>\n",
              "\n",
              "<style>\n",
              "  .colab-df-quickchart {\n",
              "      --bg-color: #E8F0FE;\n",
              "      --fill-color: #1967D2;\n",
              "      --hover-bg-color: #E2EBFA;\n",
              "      --hover-fill-color: #174EA6;\n",
              "      --disabled-fill-color: #AAA;\n",
              "      --disabled-bg-color: #DDD;\n",
              "  }\n",
              "\n",
              "  [theme=dark] .colab-df-quickchart {\n",
              "      --bg-color: #3B4455;\n",
              "      --fill-color: #D2E3FC;\n",
              "      --hover-bg-color: #434B5C;\n",
              "      --hover-fill-color: #FFFFFF;\n",
              "      --disabled-bg-color: #3B4455;\n",
              "      --disabled-fill-color: #666;\n",
              "  }\n",
              "\n",
              "  .colab-df-quickchart {\n",
              "    background-color: var(--bg-color);\n",
              "    border: none;\n",
              "    border-radius: 50%;\n",
              "    cursor: pointer;\n",
              "    display: none;\n",
              "    fill: var(--fill-color);\n",
              "    height: 32px;\n",
              "    padding: 0;\n",
              "    width: 32px;\n",
              "  }\n",
              "\n",
              "  .colab-df-quickchart:hover {\n",
              "    background-color: var(--hover-bg-color);\n",
              "    box-shadow: 0 1px 2px rgba(60, 64, 67, 0.3), 0 1px 3px 1px rgba(60, 64, 67, 0.15);\n",
              "    fill: var(--button-hover-fill-color);\n",
              "  }\n",
              "\n",
              "  .colab-df-quickchart-complete:disabled,\n",
              "  .colab-df-quickchart-complete:disabled:hover {\n",
              "    background-color: var(--disabled-bg-color);\n",
              "    fill: var(--disabled-fill-color);\n",
              "    box-shadow: none;\n",
              "  }\n",
              "\n",
              "  .colab-df-spinner {\n",
              "    border: 2px solid var(--fill-color);\n",
              "    border-color: transparent;\n",
              "    border-bottom-color: var(--fill-color);\n",
              "    animation:\n",
              "      spin 1s steps(1) infinite;\n",
              "  }\n",
              "\n",
              "  @keyframes spin {\n",
              "    0% {\n",
              "      border-color: transparent;\n",
              "      border-bottom-color: var(--fill-color);\n",
              "      border-left-color: var(--fill-color);\n",
              "    }\n",
              "    20% {\n",
              "      border-color: transparent;\n",
              "      border-left-color: var(--fill-color);\n",
              "      border-top-color: var(--fill-color);\n",
              "    }\n",
              "    30% {\n",
              "      border-color: transparent;\n",
              "      border-left-color: var(--fill-color);\n",
              "      border-top-color: var(--fill-color);\n",
              "      border-right-color: var(--fill-color);\n",
              "    }\n",
              "    40% {\n",
              "      border-color: transparent;\n",
              "      border-right-color: var(--fill-color);\n",
              "      border-top-color: var(--fill-color);\n",
              "    }\n",
              "    60% {\n",
              "      border-color: transparent;\n",
              "      border-right-color: var(--fill-color);\n",
              "    }\n",
              "    80% {\n",
              "      border-color: transparent;\n",
              "      border-right-color: var(--fill-color);\n",
              "      border-bottom-color: var(--fill-color);\n",
              "    }\n",
              "    90% {\n",
              "      border-color: transparent;\n",
              "      border-bottom-color: var(--fill-color);\n",
              "    }\n",
              "  }\n",
              "</style>\n",
              "\n",
              "  <script>\n",
              "    async function quickchart(key) {\n",
              "      const quickchartButtonEl =\n",
              "        document.querySelector('#' + key + ' button');\n",
              "      quickchartButtonEl.disabled = true;  // To prevent multiple clicks.\n",
              "      quickchartButtonEl.classList.add('colab-df-spinner');\n",
              "      try {\n",
              "        const charts = await google.colab.kernel.invokeFunction(\n",
              "            'suggestCharts', [key], {});\n",
              "      } catch (error) {\n",
              "        console.error('Error during call to suggestCharts:', error);\n",
              "      }\n",
              "      quickchartButtonEl.classList.remove('colab-df-spinner');\n",
              "      quickchartButtonEl.classList.add('colab-df-quickchart-complete');\n",
              "    }\n",
              "    (() => {\n",
              "      let quickchartButtonEl =\n",
              "        document.querySelector('#df-8636b8c3-a1b8-4e5a-880f-03e742ffe8b5 button');\n",
              "      quickchartButtonEl.style.display =\n",
              "        google.colab.kernel.accessAllowed ? 'block' : 'none';\n",
              "    })();\n",
              "  </script>\n",
              "</div>\n",
              "    </div>\n",
              "  </div>\n"
            ]
          },
          "metadata": {},
          "execution_count": 8
        }
      ]
    },
    {
      "cell_type": "code",
      "source": [
        "titanic.info()"
      ],
      "metadata": {
        "id": "KCk3cvWM319P",
        "colab": {
          "base_uri": "https://localhost:8080/"
        },
        "outputId": "ccb67f32-83a4-44e1-d9b4-77204fdb070b"
      },
      "execution_count": null,
      "outputs": [
        {
          "output_type": "stream",
          "name": "stdout",
          "text": [
            "<class 'pandas.core.frame.DataFrame'>\n",
            "RangeIndex: 891 entries, 0 to 890\n",
            "Data columns (total 12 columns):\n",
            " #   Column       Non-Null Count  Dtype  \n",
            "---  ------       --------------  -----  \n",
            " 0   PassengerId  891 non-null    int64  \n",
            " 1   Survived     891 non-null    int64  \n",
            " 2   Pclass       891 non-null    int64  \n",
            " 3   Name         891 non-null    object \n",
            " 4   Sex          891 non-null    object \n",
            " 5   Age          714 non-null    float64\n",
            " 6   SibSp        891 non-null    int64  \n",
            " 7   Parch        891 non-null    int64  \n",
            " 8   Ticket       891 non-null    object \n",
            " 9   Fare         891 non-null    float64\n",
            " 10  Cabin        204 non-null    object \n",
            " 11  Embarked     889 non-null    object \n",
            "dtypes: float64(2), int64(5), object(5)\n",
            "memory usage: 83.7+ KB\n"
          ]
        }
      ]
    },
    {
      "cell_type": "code",
      "source": [
        "titanic.describe()"
      ],
      "metadata": {
        "id": "xpvkQ2rSi0b1",
        "colab": {
          "base_uri": "https://localhost:8080/"
        },
        "outputId": "3dd34f4a-58a1-4710-b44b-9fd50c8437db"
      },
      "execution_count": null,
      "outputs": [
        {
          "output_type": "execute_result",
          "data": {
            "text/plain": [
              "       PassengerId    Survived      Pclass         Age       SibSp  \\\n",
              "count   891.000000  891.000000  891.000000  714.000000  891.000000   \n",
              "mean    446.000000    0.383838    2.308642   29.699118    0.523008   \n",
              "std     257.353842    0.486592    0.836071   14.526497    1.102743   \n",
              "min       1.000000    0.000000    1.000000    0.420000    0.000000   \n",
              "25%     223.500000    0.000000    2.000000   20.125000    0.000000   \n",
              "50%     446.000000    0.000000    3.000000   28.000000    0.000000   \n",
              "75%     668.500000    1.000000    3.000000   38.000000    1.000000   \n",
              "max     891.000000    1.000000    3.000000   80.000000    8.000000   \n",
              "\n",
              "            Parch        Fare  \n",
              "count  891.000000  891.000000  \n",
              "mean     0.381594   32.204208  \n",
              "std      0.806057   49.693429  \n",
              "min      0.000000    0.000000  \n",
              "25%      0.000000    7.910400  \n",
              "50%      0.000000   14.454200  \n",
              "75%      0.000000   31.000000  \n",
              "max      6.000000  512.329200  "
            ],
            "text/html": [
              "\n",
              "  <div id=\"df-26fdf099-c151-4bf9-8018-fd5988877607\" class=\"colab-df-container\">\n",
              "    <div>\n",
              "<style scoped>\n",
              "    .dataframe tbody tr th:only-of-type {\n",
              "        vertical-align: middle;\n",
              "    }\n",
              "\n",
              "    .dataframe tbody tr th {\n",
              "        vertical-align: top;\n",
              "    }\n",
              "\n",
              "    .dataframe thead th {\n",
              "        text-align: right;\n",
              "    }\n",
              "</style>\n",
              "<table border=\"1\" class=\"dataframe\">\n",
              "  <thead>\n",
              "    <tr style=\"text-align: right;\">\n",
              "      <th></th>\n",
              "      <th>PassengerId</th>\n",
              "      <th>Survived</th>\n",
              "      <th>Pclass</th>\n",
              "      <th>Age</th>\n",
              "      <th>SibSp</th>\n",
              "      <th>Parch</th>\n",
              "      <th>Fare</th>\n",
              "    </tr>\n",
              "  </thead>\n",
              "  <tbody>\n",
              "    <tr>\n",
              "      <th>count</th>\n",
              "      <td>891.000000</td>\n",
              "      <td>891.000000</td>\n",
              "      <td>891.000000</td>\n",
              "      <td>714.000000</td>\n",
              "      <td>891.000000</td>\n",
              "      <td>891.000000</td>\n",
              "      <td>891.000000</td>\n",
              "    </tr>\n",
              "    <tr>\n",
              "      <th>mean</th>\n",
              "      <td>446.000000</td>\n",
              "      <td>0.383838</td>\n",
              "      <td>2.308642</td>\n",
              "      <td>29.699118</td>\n",
              "      <td>0.523008</td>\n",
              "      <td>0.381594</td>\n",
              "      <td>32.204208</td>\n",
              "    </tr>\n",
              "    <tr>\n",
              "      <th>std</th>\n",
              "      <td>257.353842</td>\n",
              "      <td>0.486592</td>\n",
              "      <td>0.836071</td>\n",
              "      <td>14.526497</td>\n",
              "      <td>1.102743</td>\n",
              "      <td>0.806057</td>\n",
              "      <td>49.693429</td>\n",
              "    </tr>\n",
              "    <tr>\n",
              "      <th>min</th>\n",
              "      <td>1.000000</td>\n",
              "      <td>0.000000</td>\n",
              "      <td>1.000000</td>\n",
              "      <td>0.420000</td>\n",
              "      <td>0.000000</td>\n",
              "      <td>0.000000</td>\n",
              "      <td>0.000000</td>\n",
              "    </tr>\n",
              "    <tr>\n",
              "      <th>25%</th>\n",
              "      <td>223.500000</td>\n",
              "      <td>0.000000</td>\n",
              "      <td>2.000000</td>\n",
              "      <td>20.125000</td>\n",
              "      <td>0.000000</td>\n",
              "      <td>0.000000</td>\n",
              "      <td>7.910400</td>\n",
              "    </tr>\n",
              "    <tr>\n",
              "      <th>50%</th>\n",
              "      <td>446.000000</td>\n",
              "      <td>0.000000</td>\n",
              "      <td>3.000000</td>\n",
              "      <td>28.000000</td>\n",
              "      <td>0.000000</td>\n",
              "      <td>0.000000</td>\n",
              "      <td>14.454200</td>\n",
              "    </tr>\n",
              "    <tr>\n",
              "      <th>75%</th>\n",
              "      <td>668.500000</td>\n",
              "      <td>1.000000</td>\n",
              "      <td>3.000000</td>\n",
              "      <td>38.000000</td>\n",
              "      <td>1.000000</td>\n",
              "      <td>0.000000</td>\n",
              "      <td>31.000000</td>\n",
              "    </tr>\n",
              "    <tr>\n",
              "      <th>max</th>\n",
              "      <td>891.000000</td>\n",
              "      <td>1.000000</td>\n",
              "      <td>3.000000</td>\n",
              "      <td>80.000000</td>\n",
              "      <td>8.000000</td>\n",
              "      <td>6.000000</td>\n",
              "      <td>512.329200</td>\n",
              "    </tr>\n",
              "  </tbody>\n",
              "</table>\n",
              "</div>\n",
              "    <div class=\"colab-df-buttons\">\n",
              "\n",
              "  <div class=\"colab-df-container\">\n",
              "    <button class=\"colab-df-convert\" onclick=\"convertToInteractive('df-26fdf099-c151-4bf9-8018-fd5988877607')\"\n",
              "            title=\"Convert this dataframe to an interactive table.\"\n",
              "            style=\"display:none;\">\n",
              "\n",
              "  <svg xmlns=\"http://www.w3.org/2000/svg\" height=\"24px\" viewBox=\"0 -960 960 960\">\n",
              "    <path d=\"M120-120v-720h720v720H120Zm60-500h600v-160H180v160Zm220 220h160v-160H400v160Zm0 220h160v-160H400v160ZM180-400h160v-160H180v160Zm440 0h160v-160H620v160ZM180-180h160v-160H180v160Zm440 0h160v-160H620v160Z\"/>\n",
              "  </svg>\n",
              "    </button>\n",
              "\n",
              "  <style>\n",
              "    .colab-df-container {\n",
              "      display:flex;\n",
              "      gap: 12px;\n",
              "    }\n",
              "\n",
              "    .colab-df-convert {\n",
              "      background-color: #E8F0FE;\n",
              "      border: none;\n",
              "      border-radius: 50%;\n",
              "      cursor: pointer;\n",
              "      display: none;\n",
              "      fill: #1967D2;\n",
              "      height: 32px;\n",
              "      padding: 0 0 0 0;\n",
              "      width: 32px;\n",
              "    }\n",
              "\n",
              "    .colab-df-convert:hover {\n",
              "      background-color: #E2EBFA;\n",
              "      box-shadow: 0px 1px 2px rgba(60, 64, 67, 0.3), 0px 1px 3px 1px rgba(60, 64, 67, 0.15);\n",
              "      fill: #174EA6;\n",
              "    }\n",
              "\n",
              "    .colab-df-buttons div {\n",
              "      margin-bottom: 4px;\n",
              "    }\n",
              "\n",
              "    [theme=dark] .colab-df-convert {\n",
              "      background-color: #3B4455;\n",
              "      fill: #D2E3FC;\n",
              "    }\n",
              "\n",
              "    [theme=dark] .colab-df-convert:hover {\n",
              "      background-color: #434B5C;\n",
              "      box-shadow: 0px 1px 3px 1px rgba(0, 0, 0, 0.15);\n",
              "      filter: drop-shadow(0px 1px 2px rgba(0, 0, 0, 0.3));\n",
              "      fill: #FFFFFF;\n",
              "    }\n",
              "  </style>\n",
              "\n",
              "    <script>\n",
              "      const buttonEl =\n",
              "        document.querySelector('#df-26fdf099-c151-4bf9-8018-fd5988877607 button.colab-df-convert');\n",
              "      buttonEl.style.display =\n",
              "        google.colab.kernel.accessAllowed ? 'block' : 'none';\n",
              "\n",
              "      async function convertToInteractive(key) {\n",
              "        const element = document.querySelector('#df-26fdf099-c151-4bf9-8018-fd5988877607');\n",
              "        const dataTable =\n",
              "          await google.colab.kernel.invokeFunction('convertToInteractive',\n",
              "                                                    [key], {});\n",
              "        if (!dataTable) return;\n",
              "\n",
              "        const docLinkHtml = 'Like what you see? Visit the ' +\n",
              "          '<a target=\"_blank\" href=https://colab.research.google.com/notebooks/data_table.ipynb>data table notebook</a>'\n",
              "          + ' to learn more about interactive tables.';\n",
              "        element.innerHTML = '';\n",
              "        dataTable['output_type'] = 'display_data';\n",
              "        await google.colab.output.renderOutput(dataTable, element);\n",
              "        const docLink = document.createElement('div');\n",
              "        docLink.innerHTML = docLinkHtml;\n",
              "        element.appendChild(docLink);\n",
              "      }\n",
              "    </script>\n",
              "  </div>\n",
              "\n",
              "\n",
              "<div id=\"df-d1a3a9e6-0158-40c6-9186-9b74abcbf192\">\n",
              "  <button class=\"colab-df-quickchart\" onclick=\"quickchart('df-d1a3a9e6-0158-40c6-9186-9b74abcbf192')\"\n",
              "            title=\"Suggest charts.\"\n",
              "            style=\"display:none;\">\n",
              "\n",
              "<svg xmlns=\"http://www.w3.org/2000/svg\" height=\"24px\"viewBox=\"0 0 24 24\"\n",
              "     width=\"24px\">\n",
              "    <g>\n",
              "        <path d=\"M19 3H5c-1.1 0-2 .9-2 2v14c0 1.1.9 2 2 2h14c1.1 0 2-.9 2-2V5c0-1.1-.9-2-2-2zM9 17H7v-7h2v7zm4 0h-2V7h2v10zm4 0h-2v-4h2v4z\"/>\n",
              "    </g>\n",
              "</svg>\n",
              "  </button>\n",
              "\n",
              "<style>\n",
              "  .colab-df-quickchart {\n",
              "      --bg-color: #E8F0FE;\n",
              "      --fill-color: #1967D2;\n",
              "      --hover-bg-color: #E2EBFA;\n",
              "      --hover-fill-color: #174EA6;\n",
              "      --disabled-fill-color: #AAA;\n",
              "      --disabled-bg-color: #DDD;\n",
              "  }\n",
              "\n",
              "  [theme=dark] .colab-df-quickchart {\n",
              "      --bg-color: #3B4455;\n",
              "      --fill-color: #D2E3FC;\n",
              "      --hover-bg-color: #434B5C;\n",
              "      --hover-fill-color: #FFFFFF;\n",
              "      --disabled-bg-color: #3B4455;\n",
              "      --disabled-fill-color: #666;\n",
              "  }\n",
              "\n",
              "  .colab-df-quickchart {\n",
              "    background-color: var(--bg-color);\n",
              "    border: none;\n",
              "    border-radius: 50%;\n",
              "    cursor: pointer;\n",
              "    display: none;\n",
              "    fill: var(--fill-color);\n",
              "    height: 32px;\n",
              "    padding: 0;\n",
              "    width: 32px;\n",
              "  }\n",
              "\n",
              "  .colab-df-quickchart:hover {\n",
              "    background-color: var(--hover-bg-color);\n",
              "    box-shadow: 0 1px 2px rgba(60, 64, 67, 0.3), 0 1px 3px 1px rgba(60, 64, 67, 0.15);\n",
              "    fill: var(--button-hover-fill-color);\n",
              "  }\n",
              "\n",
              "  .colab-df-quickchart-complete:disabled,\n",
              "  .colab-df-quickchart-complete:disabled:hover {\n",
              "    background-color: var(--disabled-bg-color);\n",
              "    fill: var(--disabled-fill-color);\n",
              "    box-shadow: none;\n",
              "  }\n",
              "\n",
              "  .colab-df-spinner {\n",
              "    border: 2px solid var(--fill-color);\n",
              "    border-color: transparent;\n",
              "    border-bottom-color: var(--fill-color);\n",
              "    animation:\n",
              "      spin 1s steps(1) infinite;\n",
              "  }\n",
              "\n",
              "  @keyframes spin {\n",
              "    0% {\n",
              "      border-color: transparent;\n",
              "      border-bottom-color: var(--fill-color);\n",
              "      border-left-color: var(--fill-color);\n",
              "    }\n",
              "    20% {\n",
              "      border-color: transparent;\n",
              "      border-left-color: var(--fill-color);\n",
              "      border-top-color: var(--fill-color);\n",
              "    }\n",
              "    30% {\n",
              "      border-color: transparent;\n",
              "      border-left-color: var(--fill-color);\n",
              "      border-top-color: var(--fill-color);\n",
              "      border-right-color: var(--fill-color);\n",
              "    }\n",
              "    40% {\n",
              "      border-color: transparent;\n",
              "      border-right-color: var(--fill-color);\n",
              "      border-top-color: var(--fill-color);\n",
              "    }\n",
              "    60% {\n",
              "      border-color: transparent;\n",
              "      border-right-color: var(--fill-color);\n",
              "    }\n",
              "    80% {\n",
              "      border-color: transparent;\n",
              "      border-right-color: var(--fill-color);\n",
              "      border-bottom-color: var(--fill-color);\n",
              "    }\n",
              "    90% {\n",
              "      border-color: transparent;\n",
              "      border-bottom-color: var(--fill-color);\n",
              "    }\n",
              "  }\n",
              "</style>\n",
              "\n",
              "  <script>\n",
              "    async function quickchart(key) {\n",
              "      const quickchartButtonEl =\n",
              "        document.querySelector('#' + key + ' button');\n",
              "      quickchartButtonEl.disabled = true;  // To prevent multiple clicks.\n",
              "      quickchartButtonEl.classList.add('colab-df-spinner');\n",
              "      try {\n",
              "        const charts = await google.colab.kernel.invokeFunction(\n",
              "            'suggestCharts', [key], {});\n",
              "      } catch (error) {\n",
              "        console.error('Error during call to suggestCharts:', error);\n",
              "      }\n",
              "      quickchartButtonEl.classList.remove('colab-df-spinner');\n",
              "      quickchartButtonEl.classList.add('colab-df-quickchart-complete');\n",
              "    }\n",
              "    (() => {\n",
              "      let quickchartButtonEl =\n",
              "        document.querySelector('#df-d1a3a9e6-0158-40c6-9186-9b74abcbf192 button');\n",
              "      quickchartButtonEl.style.display =\n",
              "        google.colab.kernel.accessAllowed ? 'block' : 'none';\n",
              "    })();\n",
              "  </script>\n",
              "</div>\n",
              "    </div>\n",
              "  </div>\n"
            ]
          },
          "metadata": {},
          "execution_count": 10
        }
      ]
    },
    {
      "cell_type": "markdown",
      "source": [
        "## **Tratamento de Dados I**"
      ],
      "metadata": {
        "id": "ozDDm3mrZI3u"
      }
    },
    {
      "cell_type": "markdown",
      "source": [
        "Após uma análise com relação as variáveis existentes no Dataset, podemos retirar algumas colunas que não vamos utilizar, nem analisar os dados, então, segue as colunas removidas e seus respectivos motivos:\n",
        "\n",
        "\n",
        "\n",
        "1.   **PassengerId**: Coluna não necessária visto que somente atribui um ID a cada linha do Dataset, porém, já possuimos esta atribuição.\n",
        "2.   **Ticket**: Valor de String irrelevante devido a baixa otimização de utilização no Dataset.\n",
        "3.   **Cabin**: Coluna extremamente valiosa com relação a questão de dados, porém, para conseguirmos trabalhar com a mesma, é necessário um mapa do titanic para análisar a importância das cabines com relação as outras variáveis, porém, devido a falta de tempo para análise, decidi retirar.\n",
        "4.   **Name**: Valor em String díficil de trabalhar a relacionar com outras variáveis, além de ser um valor irrelevante para a análise do Dataset.\n",
        "5.   **Fare**: Valor com extrema variedade de dados, possuindo pouco padrão para se analisar se tornando muito dificil de trabalhar.\n",
        "6.   **SibSp**: Coluna que após uma breve análise, possui pouca relação com outras colunas, somente com Parch, além de que, decidi retirar devido a problemas na hora da normalização dos dados do Dataset.\n",
        "7.   **Parch**: Coluna que após uma breve análise, possui pouca relação com outras colunas, somente com SibSp, além de que, decidi retirar devido a problemas na hora da normalização dos dados do Dataset.\n",
        "\n",
        "\n",
        "\n",
        "\n",
        "\n",
        "\n",
        "\n"
      ],
      "metadata": {
        "id": "c3i7W2l0Z7iP"
      }
    },
    {
      "cell_type": "markdown",
      "source": [
        "Então, decidi focar nas colunas restantes para construir uma análise mais direcionada e precisa."
      ],
      "metadata": {
        "id": "Em_qDjd3DKMw"
      }
    },
    {
      "cell_type": "code",
      "source": [
        "titanic = titanic.drop(columns=['PassengerId', 'Ticket', 'Cabin', 'Name', 'Fare', 'SibSp', 'Parch'])"
      ],
      "metadata": {
        "id": "q26HWOwcgliM"
      },
      "execution_count": null,
      "outputs": []
    },
    {
      "cell_type": "markdown",
      "source": [
        "#### Tratamento de Valores Nulos"
      ],
      "metadata": {
        "id": "aPHN0CDLs5Nx"
      }
    },
    {
      "cell_type": "code",
      "source": [
        "valores_nan = titanic.isnull().sum()\n",
        "print(valores_nan)"
      ],
      "metadata": {
        "id": "yiCxtt_kqK9z",
        "colab": {
          "base_uri": "https://localhost:8080/"
        },
        "outputId": "b97e72a7-8482-4be9-8058-fa44d7ac8773"
      },
      "execution_count": null,
      "outputs": [
        {
          "output_type": "stream",
          "name": "stdout",
          "text": [
            "Survived      0\n",
            "Pclass        0\n",
            "Sex           0\n",
            "Age         177\n",
            "Embarked      2\n",
            "dtype: int64\n"
          ]
        }
      ]
    },
    {
      "cell_type": "markdown",
      "source": [
        "Visto que Age possui diversos valores nulos, e informações importantes no Dataset, vamos tratar os valores adicionando a média dos mesmos nesses valores, e então, removendo os valores nulos de Embarked, devido a baixa quantidade de valores NaN no Dataset."
      ],
      "metadata": {
        "id": "PLpBBbYVtASE"
      }
    },
    {
      "cell_type": "code",
      "source": [
        "mean_age = titanic['Age'].mean()\n",
        "titanic['Age'].fillna(mean_age, inplace=True)\n",
        "titanic.dropna(axis=0, inplace=True)"
      ],
      "metadata": {
        "id": "F-1fByOEhxFK"
      },
      "execution_count": null,
      "outputs": []
    },
    {
      "cell_type": "markdown",
      "source": [
        "### Data Standardization"
      ],
      "metadata": {
        "id": "D2TLFYngfvWY"
      }
    },
    {
      "cell_type": "markdown",
      "source": [
        "Como vamos trabalhar com a variável 'Sex' com outras variáveis, é necessário realizar a separação desta coluna em duas no Dataset Titanic, foi utilizado o get_dummies para separar essas variáveis em outras colunas.\n",
        "\n",
        "Sendo assim foram adicionadas as colunas:\n",
        "\n",
        "*   Sex_female\n",
        "*   Sex_male\n",
        "\n"
      ],
      "metadata": {
        "id": "dg28lzw9Yi7E"
      }
    },
    {
      "cell_type": "code",
      "source": [
        "titanic = pd.get_dummies(titanic, columns=['Sex'], prefix=['Sexo'])"
      ],
      "metadata": {
        "id": "RpgMYKExUi3C"
      },
      "execution_count": null,
      "outputs": []
    },
    {
      "cell_type": "code",
      "source": [
        "titanic.head()"
      ],
      "metadata": {
        "id": "pKHfwVrxU2zQ",
        "colab": {
          "base_uri": "https://localhost:8080/"
        },
        "outputId": "cf04dc5f-53f2-4816-f409-da875267c743"
      },
      "execution_count": null,
      "outputs": [
        {
          "output_type": "execute_result",
          "data": {
            "text/plain": [
              "   Survived  Pclass   Age Embarked  Sexo_female  Sexo_male\n",
              "0         0       3  22.0        S            0          1\n",
              "1         1       1  38.0        C            1          0\n",
              "2         1       3  26.0        S            1          0\n",
              "3         1       1  35.0        S            1          0\n",
              "4         0       3  35.0        S            0          1"
            ],
            "text/html": [
              "\n",
              "  <div id=\"df-014b3b30-1e53-4342-87f8-8b221c30263c\" class=\"colab-df-container\">\n",
              "    <div>\n",
              "<style scoped>\n",
              "    .dataframe tbody tr th:only-of-type {\n",
              "        vertical-align: middle;\n",
              "    }\n",
              "\n",
              "    .dataframe tbody tr th {\n",
              "        vertical-align: top;\n",
              "    }\n",
              "\n",
              "    .dataframe thead th {\n",
              "        text-align: right;\n",
              "    }\n",
              "</style>\n",
              "<table border=\"1\" class=\"dataframe\">\n",
              "  <thead>\n",
              "    <tr style=\"text-align: right;\">\n",
              "      <th></th>\n",
              "      <th>Survived</th>\n",
              "      <th>Pclass</th>\n",
              "      <th>Age</th>\n",
              "      <th>Embarked</th>\n",
              "      <th>Sexo_female</th>\n",
              "      <th>Sexo_male</th>\n",
              "    </tr>\n",
              "  </thead>\n",
              "  <tbody>\n",
              "    <tr>\n",
              "      <th>0</th>\n",
              "      <td>0</td>\n",
              "      <td>3</td>\n",
              "      <td>22.0</td>\n",
              "      <td>S</td>\n",
              "      <td>0</td>\n",
              "      <td>1</td>\n",
              "    </tr>\n",
              "    <tr>\n",
              "      <th>1</th>\n",
              "      <td>1</td>\n",
              "      <td>1</td>\n",
              "      <td>38.0</td>\n",
              "      <td>C</td>\n",
              "      <td>1</td>\n",
              "      <td>0</td>\n",
              "    </tr>\n",
              "    <tr>\n",
              "      <th>2</th>\n",
              "      <td>1</td>\n",
              "      <td>3</td>\n",
              "      <td>26.0</td>\n",
              "      <td>S</td>\n",
              "      <td>1</td>\n",
              "      <td>0</td>\n",
              "    </tr>\n",
              "    <tr>\n",
              "      <th>3</th>\n",
              "      <td>1</td>\n",
              "      <td>1</td>\n",
              "      <td>35.0</td>\n",
              "      <td>S</td>\n",
              "      <td>1</td>\n",
              "      <td>0</td>\n",
              "    </tr>\n",
              "    <tr>\n",
              "      <th>4</th>\n",
              "      <td>0</td>\n",
              "      <td>3</td>\n",
              "      <td>35.0</td>\n",
              "      <td>S</td>\n",
              "      <td>0</td>\n",
              "      <td>1</td>\n",
              "    </tr>\n",
              "  </tbody>\n",
              "</table>\n",
              "</div>\n",
              "    <div class=\"colab-df-buttons\">\n",
              "\n",
              "  <div class=\"colab-df-container\">\n",
              "    <button class=\"colab-df-convert\" onclick=\"convertToInteractive('df-014b3b30-1e53-4342-87f8-8b221c30263c')\"\n",
              "            title=\"Convert this dataframe to an interactive table.\"\n",
              "            style=\"display:none;\">\n",
              "\n",
              "  <svg xmlns=\"http://www.w3.org/2000/svg\" height=\"24px\" viewBox=\"0 -960 960 960\">\n",
              "    <path d=\"M120-120v-720h720v720H120Zm60-500h600v-160H180v160Zm220 220h160v-160H400v160Zm0 220h160v-160H400v160ZM180-400h160v-160H180v160Zm440 0h160v-160H620v160ZM180-180h160v-160H180v160Zm440 0h160v-160H620v160Z\"/>\n",
              "  </svg>\n",
              "    </button>\n",
              "\n",
              "  <style>\n",
              "    .colab-df-container {\n",
              "      display:flex;\n",
              "      gap: 12px;\n",
              "    }\n",
              "\n",
              "    .colab-df-convert {\n",
              "      background-color: #E8F0FE;\n",
              "      border: none;\n",
              "      border-radius: 50%;\n",
              "      cursor: pointer;\n",
              "      display: none;\n",
              "      fill: #1967D2;\n",
              "      height: 32px;\n",
              "      padding: 0 0 0 0;\n",
              "      width: 32px;\n",
              "    }\n",
              "\n",
              "    .colab-df-convert:hover {\n",
              "      background-color: #E2EBFA;\n",
              "      box-shadow: 0px 1px 2px rgba(60, 64, 67, 0.3), 0px 1px 3px 1px rgba(60, 64, 67, 0.15);\n",
              "      fill: #174EA6;\n",
              "    }\n",
              "\n",
              "    .colab-df-buttons div {\n",
              "      margin-bottom: 4px;\n",
              "    }\n",
              "\n",
              "    [theme=dark] .colab-df-convert {\n",
              "      background-color: #3B4455;\n",
              "      fill: #D2E3FC;\n",
              "    }\n",
              "\n",
              "    [theme=dark] .colab-df-convert:hover {\n",
              "      background-color: #434B5C;\n",
              "      box-shadow: 0px 1px 3px 1px rgba(0, 0, 0, 0.15);\n",
              "      filter: drop-shadow(0px 1px 2px rgba(0, 0, 0, 0.3));\n",
              "      fill: #FFFFFF;\n",
              "    }\n",
              "  </style>\n",
              "\n",
              "    <script>\n",
              "      const buttonEl =\n",
              "        document.querySelector('#df-014b3b30-1e53-4342-87f8-8b221c30263c button.colab-df-convert');\n",
              "      buttonEl.style.display =\n",
              "        google.colab.kernel.accessAllowed ? 'block' : 'none';\n",
              "\n",
              "      async function convertToInteractive(key) {\n",
              "        const element = document.querySelector('#df-014b3b30-1e53-4342-87f8-8b221c30263c');\n",
              "        const dataTable =\n",
              "          await google.colab.kernel.invokeFunction('convertToInteractive',\n",
              "                                                    [key], {});\n",
              "        if (!dataTable) return;\n",
              "\n",
              "        const docLinkHtml = 'Like what you see? Visit the ' +\n",
              "          '<a target=\"_blank\" href=https://colab.research.google.com/notebooks/data_table.ipynb>data table notebook</a>'\n",
              "          + ' to learn more about interactive tables.';\n",
              "        element.innerHTML = '';\n",
              "        dataTable['output_type'] = 'display_data';\n",
              "        await google.colab.output.renderOutput(dataTable, element);\n",
              "        const docLink = document.createElement('div');\n",
              "        docLink.innerHTML = docLinkHtml;\n",
              "        element.appendChild(docLink);\n",
              "      }\n",
              "    </script>\n",
              "  </div>\n",
              "\n",
              "\n",
              "<div id=\"df-b8137f7e-7fe4-4311-8ece-c42e6a1271c6\">\n",
              "  <button class=\"colab-df-quickchart\" onclick=\"quickchart('df-b8137f7e-7fe4-4311-8ece-c42e6a1271c6')\"\n",
              "            title=\"Suggest charts.\"\n",
              "            style=\"display:none;\">\n",
              "\n",
              "<svg xmlns=\"http://www.w3.org/2000/svg\" height=\"24px\"viewBox=\"0 0 24 24\"\n",
              "     width=\"24px\">\n",
              "    <g>\n",
              "        <path d=\"M19 3H5c-1.1 0-2 .9-2 2v14c0 1.1.9 2 2 2h14c1.1 0 2-.9 2-2V5c0-1.1-.9-2-2-2zM9 17H7v-7h2v7zm4 0h-2V7h2v10zm4 0h-2v-4h2v4z\"/>\n",
              "    </g>\n",
              "</svg>\n",
              "  </button>\n",
              "\n",
              "<style>\n",
              "  .colab-df-quickchart {\n",
              "      --bg-color: #E8F0FE;\n",
              "      --fill-color: #1967D2;\n",
              "      --hover-bg-color: #E2EBFA;\n",
              "      --hover-fill-color: #174EA6;\n",
              "      --disabled-fill-color: #AAA;\n",
              "      --disabled-bg-color: #DDD;\n",
              "  }\n",
              "\n",
              "  [theme=dark] .colab-df-quickchart {\n",
              "      --bg-color: #3B4455;\n",
              "      --fill-color: #D2E3FC;\n",
              "      --hover-bg-color: #434B5C;\n",
              "      --hover-fill-color: #FFFFFF;\n",
              "      --disabled-bg-color: #3B4455;\n",
              "      --disabled-fill-color: #666;\n",
              "  }\n",
              "\n",
              "  .colab-df-quickchart {\n",
              "    background-color: var(--bg-color);\n",
              "    border: none;\n",
              "    border-radius: 50%;\n",
              "    cursor: pointer;\n",
              "    display: none;\n",
              "    fill: var(--fill-color);\n",
              "    height: 32px;\n",
              "    padding: 0;\n",
              "    width: 32px;\n",
              "  }\n",
              "\n",
              "  .colab-df-quickchart:hover {\n",
              "    background-color: var(--hover-bg-color);\n",
              "    box-shadow: 0 1px 2px rgba(60, 64, 67, 0.3), 0 1px 3px 1px rgba(60, 64, 67, 0.15);\n",
              "    fill: var(--button-hover-fill-color);\n",
              "  }\n",
              "\n",
              "  .colab-df-quickchart-complete:disabled,\n",
              "  .colab-df-quickchart-complete:disabled:hover {\n",
              "    background-color: var(--disabled-bg-color);\n",
              "    fill: var(--disabled-fill-color);\n",
              "    box-shadow: none;\n",
              "  }\n",
              "\n",
              "  .colab-df-spinner {\n",
              "    border: 2px solid var(--fill-color);\n",
              "    border-color: transparent;\n",
              "    border-bottom-color: var(--fill-color);\n",
              "    animation:\n",
              "      spin 1s steps(1) infinite;\n",
              "  }\n",
              "\n",
              "  @keyframes spin {\n",
              "    0% {\n",
              "      border-color: transparent;\n",
              "      border-bottom-color: var(--fill-color);\n",
              "      border-left-color: var(--fill-color);\n",
              "    }\n",
              "    20% {\n",
              "      border-color: transparent;\n",
              "      border-left-color: var(--fill-color);\n",
              "      border-top-color: var(--fill-color);\n",
              "    }\n",
              "    30% {\n",
              "      border-color: transparent;\n",
              "      border-left-color: var(--fill-color);\n",
              "      border-top-color: var(--fill-color);\n",
              "      border-right-color: var(--fill-color);\n",
              "    }\n",
              "    40% {\n",
              "      border-color: transparent;\n",
              "      border-right-color: var(--fill-color);\n",
              "      border-top-color: var(--fill-color);\n",
              "    }\n",
              "    60% {\n",
              "      border-color: transparent;\n",
              "      border-right-color: var(--fill-color);\n",
              "    }\n",
              "    80% {\n",
              "      border-color: transparent;\n",
              "      border-right-color: var(--fill-color);\n",
              "      border-bottom-color: var(--fill-color);\n",
              "    }\n",
              "    90% {\n",
              "      border-color: transparent;\n",
              "      border-bottom-color: var(--fill-color);\n",
              "    }\n",
              "  }\n",
              "</style>\n",
              "\n",
              "  <script>\n",
              "    async function quickchart(key) {\n",
              "      const quickchartButtonEl =\n",
              "        document.querySelector('#' + key + ' button');\n",
              "      quickchartButtonEl.disabled = true;  // To prevent multiple clicks.\n",
              "      quickchartButtonEl.classList.add('colab-df-spinner');\n",
              "      try {\n",
              "        const charts = await google.colab.kernel.invokeFunction(\n",
              "            'suggestCharts', [key], {});\n",
              "      } catch (error) {\n",
              "        console.error('Error during call to suggestCharts:', error);\n",
              "      }\n",
              "      quickchartButtonEl.classList.remove('colab-df-spinner');\n",
              "      quickchartButtonEl.classList.add('colab-df-quickchart-complete');\n",
              "    }\n",
              "    (() => {\n",
              "      let quickchartButtonEl =\n",
              "        document.querySelector('#df-b8137f7e-7fe4-4311-8ece-c42e6a1271c6 button');\n",
              "      quickchartButtonEl.style.display =\n",
              "        google.colab.kernel.accessAllowed ? 'block' : 'none';\n",
              "    })();\n",
              "  </script>\n",
              "</div>\n",
              "    </div>\n",
              "  </div>\n"
            ]
          },
          "metadata": {},
          "execution_count": 15
        }
      ]
    },
    {
      "cell_type": "markdown",
      "source": [
        "### Heatmap"
      ],
      "metadata": {
        "id": "Q_R3FT1tcmji"
      }
    },
    {
      "cell_type": "markdown",
      "source": [
        "Então, para analisarmos a relação de cada variável no Dataset, vamos utilizar o Heatmap para demonstrar a correlação em gráfico."
      ],
      "metadata": {
        "id": "JHG7lArnYgpX"
      }
    },
    {
      "cell_type": "code",
      "source": [
        "plt.figure(figsize=(10, 6))\n",
        "heatmap = sns.heatmap(titanic.corr(), vmin=-1, vmax=1, annot=True)\n",
        "heatmap.set_title('Heatmap Variáveis do Dataset', fontdict={'fontsize':12}, pad=12);"
      ],
      "metadata": {
        "id": "lor4MxYwTQMO",
        "colab": {
          "base_uri": "https://localhost:8080/"
        },
        "outputId": "fe7b44b9-d7f6-45cb-cc8d-8d17bb1807f5"
      },
      "execution_count": null,
      "outputs": [
        {
          "output_type": "stream",
          "name": "stderr",
          "text": [
            "<ipython-input-16-4d39640add18>:2: FutureWarning: The default value of numeric_only in DataFrame.corr is deprecated. In a future version, it will default to False. Select only valid columns or specify the value of numeric_only to silence this warning.\n",
            "  heatmap = sns.heatmap(titanic.corr(), vmin=-1, vmax=1, annot=True)\n"
          ]
        },
        {
          "output_type": "display_data",
          "data": {
            "text/plain": [
              "<Figure size 1000x600 with 2 Axes>"
            ],
            "image/png": "[encoded data removed]"
          },
          "metadata": {}
        }
      ]
    },
    {
      "cell_type": "markdown",
      "source": [
        "Dado a construção do Heatmap de Correlação, vemos que a maior correlação que possuimos são com as seguintes variáveis:\n",
        "\n",
        "*   *Sex_female* e *Survived*: 0.54\n",
        "*   *Sex_male* e *Survived*: -0.54\n",
        "*   *Pclass* e *Survived*: -0.34\n",
        "*   *Age* e *Pclass*: -0.37"
      ],
      "metadata": {
        "id": "wK366Iwuciaw"
      }
    },
    {
      "cell_type": "markdown",
      "source": [
        "A partir da análise da relação das colunas, podemos propor uma hipótese.\n",
        "Podemos criar a hipótese de que, baseada nessa informação, podemos dizer que as mulheres tiveram uma porcentagem maior de sobrevivência. E podemos comprovar com a seguinte notícia abaixo.\n",
        "\n",
        "> - ''Uma das conclusões é que, no naufrágio do Titanic, ocorrido em 1912, a maioria das mulheres e crianças foram salvas (cerca de 70%). Um número alto em comparação com os homens que sobreviveram (20%).''\n",
        "\n"
      ],
      "metadata": {
        "id": "FwdahY_qcQv7"
      }
    },
    {
      "cell_type": "markdown",
      "source": [
        "### Sobreviventes por Sexo\n",
        "Visto a hipótese acima, podemos analisar a quantidade de homens e mulheres sobreviventes, e, não sobreviventes do Titanic."
      ],
      "metadata": {
        "id": "s-lE-EVYo9pJ"
      }
    },
    {
      "cell_type": "code",
      "source": [
        "female_survivors = titanic[titanic['Sexo_female'] == 1]['Survived']\n",
        "male_survivors = titanic[titanic['Sexo_male'] == 1]['Survived']\n",
        "\n",
        "female_survivors_count = female_survivors.sum()\n",
        "female_non_survivors_count = female_survivors.size - female_survivors_count\n",
        "\n",
        "male_survivors_count = male_survivors.sum()\n",
        "male_non_survivors_count = male_survivors.size - male_survivors_count\n",
        "\n",
        "categories = ['Não-Sobreviventes Feminino', 'Sobreviventes Feminino', 'Sobreviventes Masculino', 'Não-Sobreviventes Masculino']\n",
        "counts = [female_non_survivors_count, female_survivors_count, male_survivors_count, male_non_survivors_count]\n",
        "colors = ['hotpink', 'pink', 'blue', 'lightblue']\n",
        "\n",
        "plt.figure(figsize=(8, 4))\n",
        "plt.bar(categories, counts, color=colors)\n",
        "plt.title('Quantidade de Sobreviventes por Sexo')\n",
        "\n",
        "plt.xticks(rotation=45)\n",
        "plt.show()"
      ],
      "metadata": {
        "id": "7jXqPBDFeBQS",
        "colab": {
          "base_uri": "https://localhost:8080/"
        },
        "outputId": "0a33f05e-d5e2-4b95-d41f-7df0740bb1c8"
      },
      "execution_count": null,
      "outputs": [
        {
          "output_type": "display_data",
          "data": {
            "text/plain": [
              "<Figure size 800x400 with 1 Axes>"
            ],
            "image/png": "[encoded data removed]"
          },
          "metadata": {}
        }
      ]
    },
    {
      "cell_type": "markdown",
      "source": [
        "*Referência*: https://g1.globo.com/ciencia-e-saude/noticia/2012/07/titanic-foi-excecao-no-perfil-dos-mortos-em-naufragios-diz-pesquisa.html#:~:text=Uma%20das%20conclus%C3%B5es%20%C3%A9%20que,homens%20que%20sobreviveram%20(20%25)."
      ],
      "metadata": {
        "id": "oXOh7wJSpM7C"
      }
    },
    {
      "cell_type": "markdown",
      "source": [
        "### Não Sobreviventes por Classe"
      ],
      "metadata": {
        "id": "HarczecrK6DJ"
      }
    },
    {
      "cell_type": "markdown",
      "source": [
        "Decidimos separar os números de mortos por classe, isto é, por quanto foi pago na passagem do navio (1ª, 2ª e 3ª classe), para uma melhor visualização e entendimento sobre como se deram as mortes no desastre."
      ],
      "metadata": {
        "id": "M6ge9la-jqfg"
      }
    },
    {
      "cell_type": "code",
      "source": [
        "nao_sobreviventes = titanic[titanic['Survived'] == 0]\n",
        "contagem_por_classe = nao_sobreviventes['Pclass'].value_counts()\n",
        "\n",
        "contagem_por_classe = contagem_por_classe.sort_index()\n",
        "\n",
        "cores = ['red', 'green', 'blue']\n",
        "\n",
        "plt.figure(figsize=(8, 4))\n",
        "plt.bar(contagem_por_classe.index, contagem_por_classe.values, tick_label=contagem_por_classe.index, color=cores)\n",
        "plt.xlabel('Classe')\n",
        "plt.ylabel('Número de Não Sobreviventes')\n",
        "plt.title('Número de Não Sobreviventes por Classe')\n",
        "plt.show()"
      ],
      "metadata": {
        "colab": {
          "base_uri": "https://localhost:8080/"
        },
        "id": "SIqIor1kK2uQ",
        "outputId": "23c8c4bd-2228-476a-b933-18ed029ccadb"
      },
      "execution_count": null,
      "outputs": [
        {
          "output_type": "display_data",
          "data": {
            "text/plain": [
              "<Figure size 800x400 with 1 Axes>"
            ],
            "image/png": "[encoded data removed]"
          },
          "metadata": {}
        }
      ]
    },
    {
      "cell_type": "markdown",
      "source": [
        "Como era esperado, até pela própria organização das cabines do navio, a classe 3 foi a que teve um maior número de mortos quando comparada a todas as outras classes. Por outro lado, a que teve o maior numero de sobreviventes foi a classe 1"
      ],
      "metadata": {
        "id": "9zHGn8V3jsnD"
      }
    },
    {
      "cell_type": "markdown",
      "source": [
        "## **Tratamento de Dados II**"
      ],
      "metadata": {
        "id": "dxtuOcxC2EqM"
      }
    },
    {
      "cell_type": "markdown",
      "source": [
        "### Normalização dos Dados"
      ],
      "metadata": {
        "id": "-V66mq80C4Xm"
      }
    },
    {
      "cell_type": "markdown",
      "source": [
        "Para realizarmos a normalização dos dados no Dataset, precisando tratar as mesmas, então, como Embarked é uma coluna que possui dados em String, vamos tratar separando a em varias colunas, com valores binários para declarar o local de embarque de cada pessoa respectivamente."
      ],
      "metadata": {
        "id": "Ef0olhbXXo7T"
      }
    },
    {
      "cell_type": "code",
      "source": [
        "titanic = pd.get_dummies(titanic, columns=['Embarked'], prefix=['Embarque'])"
      ],
      "metadata": {
        "id": "5fuu2K9DDIcH"
      },
      "execution_count": null,
      "outputs": []
    },
    {
      "cell_type": "code",
      "source": [
        "titanic.head()"
      ],
      "metadata": {
        "id": "va0_wSSFkb51",
        "colab": {
          "base_uri": "https://localhost:8080/"
        },
        "outputId": "aa78ddd7-3434-4352-a525-5a34279e0480"
      },
      "execution_count": null,
      "outputs": [
        {
          "output_type": "execute_result",
          "data": {
            "text/plain": [
              "   Survived  Pclass   Age  Sexo_female  Sexo_male  Embarque_C  Embarque_Q  \\\n",
              "0         0       3  22.0            0          1           0           0   \n",
              "1         1       1  38.0            1          0           1           0   \n",
              "2         1       3  26.0            1          0           0           0   \n",
              "3         1       1  35.0            1          0           0           0   \n",
              "4         0       3  35.0            0          1           0           0   \n",
              "\n",
              "   Embarque_S  \n",
              "0           1  \n",
              "1           0  \n",
              "2           1  \n",
              "3           1  \n",
              "4           1  "
            ],
            "text/html": [
              "\n",
              "  <div id=\"df-66e9b5ea-302a-4c5d-9e12-ab0343d64893\" class=\"colab-df-container\">\n",
              "    <div>\n",
              "<style scoped>\n",
              "    .dataframe tbody tr th:only-of-type {\n",
              "        vertical-align: middle;\n",
              "    }\n",
              "\n",
              "    .dataframe tbody tr th {\n",
              "        vertical-align: top;\n",
              "    }\n",
              "\n",
              "    .dataframe thead th {\n",
              "        text-align: right;\n",
              "    }\n",
              "</style>\n",
              "<table border=\"1\" class=\"dataframe\">\n",
              "  <thead>\n",
              "    <tr style=\"text-align: right;\">\n",
              "      <th></th>\n",
              "      <th>Survived</th>\n",
              "      <th>Pclass</th>\n",
              "      <th>Age</th>\n",
              "      <th>Sexo_female</th>\n",
              "      <th>Sexo_male</th>\n",
              "      <th>Embarque_C</th>\n",
              "      <th>Embarque_Q</th>\n",
              "      <th>Embarque_S</th>\n",
              "    </tr>\n",
              "  </thead>\n",
              "  <tbody>\n",
              "    <tr>\n",
              "      <th>0</th>\n",
              "      <td>0</td>\n",
              "      <td>3</td>\n",
              "      <td>22.0</td>\n",
              "      <td>0</td>\n",
              "      <td>1</td>\n",
              "      <td>0</td>\n",
              "      <td>0</td>\n",
              "      <td>1</td>\n",
              "    </tr>\n",
              "    <tr>\n",
              "      <th>1</th>\n",
              "      <td>1</td>\n",
              "      <td>1</td>\n",
              "      <td>38.0</td>\n",
              "      <td>1</td>\n",
              "      <td>0</td>\n",
              "      <td>1</td>\n",
              "      <td>0</td>\n",
              "      <td>0</td>\n",
              "    </tr>\n",
              "    <tr>\n",
              "      <th>2</th>\n",
              "      <td>1</td>\n",
              "      <td>3</td>\n",
              "      <td>26.0</td>\n",
              "      <td>1</td>\n",
              "      <td>0</td>\n",
              "      <td>0</td>\n",
              "      <td>0</td>\n",
              "      <td>1</td>\n",
              "    </tr>\n",
              "    <tr>\n",
              "      <th>3</th>\n",
              "      <td>1</td>\n",
              "      <td>1</td>\n",
              "      <td>35.0</td>\n",
              "      <td>1</td>\n",
              "      <td>0</td>\n",
              "      <td>0</td>\n",
              "      <td>0</td>\n",
              "      <td>1</td>\n",
              "    </tr>\n",
              "    <tr>\n",
              "      <th>4</th>\n",
              "      <td>0</td>\n",
              "      <td>3</td>\n",
              "      <td>35.0</td>\n",
              "      <td>0</td>\n",
              "      <td>1</td>\n",
              "      <td>0</td>\n",
              "      <td>0</td>\n",
              "      <td>1</td>\n",
              "    </tr>\n",
              "  </tbody>\n",
              "</table>\n",
              "</div>\n",
              "    <div class=\"colab-df-buttons\">\n",
              "\n",
              "  <div class=\"colab-df-container\">\n",
              "    <button class=\"colab-df-convert\" onclick=\"convertToInteractive('df-66e9b5ea-302a-4c5d-9e12-ab0343d64893')\"\n",
              "            title=\"Convert this dataframe to an interactive table.\"\n",
              "            style=\"display:none;\">\n",
              "\n",
              "  <svg xmlns=\"http://www.w3.org/2000/svg\" height=\"24px\" viewBox=\"0 -960 960 960\">\n",
              "    <path d=\"M120-120v-720h720v720H120Zm60-500h600v-160H180v160Zm220 220h160v-160H400v160Zm0 220h160v-160H400v160ZM180-400h160v-160H180v160Zm440 0h160v-160H620v160ZM180-180h160v-160H180v160Zm440 0h160v-160H620v160Z\"/>\n",
              "  </svg>\n",
              "    </button>\n",
              "\n",
              "  <style>\n",
              "    .colab-df-container {\n",
              "      display:flex;\n",
              "      gap: 12px;\n",
              "    }\n",
              "\n",
              "    .colab-df-convert {\n",
              "      background-color: #E8F0FE;\n",
              "      border: none;\n",
              "      border-radius: 50%;\n",
              "      cursor: pointer;\n",
              "      display: none;\n",
              "      fill: #1967D2;\n",
              "      height: 32px;\n",
              "      padding: 0 0 0 0;\n",
              "      width: 32px;\n",
              "    }\n",
              "\n",
              "    .colab-df-convert:hover {\n",
              "      background-color: #E2EBFA;\n",
              "      box-shadow: 0px 1px 2px rgba(60, 64, 67, 0.3), 0px 1px 3px 1px rgba(60, 64, 67, 0.15);\n",
              "      fill: #174EA6;\n",
              "    }\n",
              "\n",
              "    .colab-df-buttons div {\n",
              "      margin-bottom: 4px;\n",
              "    }\n",
              "\n",
              "    [theme=dark] .colab-df-convert {\n",
              "      background-color: #3B4455;\n",
              "      fill: #D2E3FC;\n",
              "    }\n",
              "\n",
              "    [theme=dark] .colab-df-convert:hover {\n",
              "      background-color: #434B5C;\n",
              "      box-shadow: 0px 1px 3px 1px rgba(0, 0, 0, 0.15);\n",
              "      filter: drop-shadow(0px 1px 2px rgba(0, 0, 0, 0.3));\n",
              "      fill: #FFFFFF;\n",
              "    }\n",
              "  </style>\n",
              "\n",
              "    <script>\n",
              "      const buttonEl =\n",
              "        document.querySelector('#df-66e9b5ea-302a-4c5d-9e12-ab0343d64893 button.colab-df-convert');\n",
              "      buttonEl.style.display =\n",
              "        google.colab.kernel.accessAllowed ? 'block' : 'none';\n",
              "\n",
              "      async function convertToInteractive(key) {\n",
              "        const element = document.querySelector('#df-66e9b5ea-302a-4c5d-9e12-ab0343d64893');\n",
              "        const dataTable =\n",
              "          await google.colab.kernel.invokeFunction('convertToInteractive',\n",
              "                                                    [key], {});\n",
              "        if (!dataTable) return;\n",
              "\n",
              "        const docLinkHtml = 'Like what you see? Visit the ' +\n",
              "          '<a target=\"_blank\" href=https://colab.research.google.com/notebooks/data_table.ipynb>data table notebook</a>'\n",
              "          + ' to learn more about interactive tables.';\n",
              "        element.innerHTML = '';\n",
              "        dataTable['output_type'] = 'display_data';\n",
              "        await google.colab.output.renderOutput(dataTable, element);\n",
              "        const docLink = document.createElement('div');\n",
              "        docLink.innerHTML = docLinkHtml;\n",
              "        element.appendChild(docLink);\n",
              "      }\n",
              "    </script>\n",
              "  </div>\n",
              "\n",
              "\n",
              "<div id=\"df-43d0b9da-04d8-4a63-a22d-18d3e8ffd503\">\n",
              "  <button class=\"colab-df-quickchart\" onclick=\"quickchart('df-43d0b9da-04d8-4a63-a22d-18d3e8ffd503')\"\n",
              "            title=\"Suggest charts.\"\n",
              "            style=\"display:none;\">\n",
              "\n",
              "<svg xmlns=\"http://www.w3.org/2000/svg\" height=\"24px\"viewBox=\"0 0 24 24\"\n",
              "     width=\"24px\">\n",
              "    <g>\n",
              "        <path d=\"M19 3H5c-1.1 0-2 .9-2 2v14c0 1.1.9 2 2 2h14c1.1 0 2-.9 2-2V5c0-1.1-.9-2-2-2zM9 17H7v-7h2v7zm4 0h-2V7h2v10zm4 0h-2v-4h2v4z\"/>\n",
              "    </g>\n",
              "</svg>\n",
              "  </button>\n",
              "\n",
              "<style>\n",
              "  .colab-df-quickchart {\n",
              "      --bg-color: #E8F0FE;\n",
              "      --fill-color: #1967D2;\n",
              "      --hover-bg-color: #E2EBFA;\n",
              "      --hover-fill-color: #174EA6;\n",
              "      --disabled-fill-color: #AAA;\n",
              "      --disabled-bg-color: #DDD;\n",
              "  }\n",
              "\n",
              "  [theme=dark] .colab-df-quickchart {\n",
              "      --bg-color: #3B4455;\n",
              "      --fill-color: #D2E3FC;\n",
              "      --hover-bg-color: #434B5C;\n",
              "      --hover-fill-color: #FFFFFF;\n",
              "      --disabled-bg-color: #3B4455;\n",
              "      --disabled-fill-color: #666;\n",
              "  }\n",
              "\n",
              "  .colab-df-quickchart {\n",
              "    background-color: var(--bg-color);\n",
              "    border: none;\n",
              "    border-radius: 50%;\n",
              "    cursor: pointer;\n",
              "    display: none;\n",
              "    fill: var(--fill-color);\n",
              "    height: 32px;\n",
              "    padding: 0;\n",
              "    width: 32px;\n",
              "  }\n",
              "\n",
              "  .colab-df-quickchart:hover {\n",
              "    background-color: var(--hover-bg-color);\n",
              "    box-shadow: 0 1px 2px rgba(60, 64, 67, 0.3), 0 1px 3px 1px rgba(60, 64, 67, 0.15);\n",
              "    fill: var(--button-hover-fill-color);\n",
              "  }\n",
              "\n",
              "  .colab-df-quickchart-complete:disabled,\n",
              "  .colab-df-quickchart-complete:disabled:hover {\n",
              "    background-color: var(--disabled-bg-color);\n",
              "    fill: var(--disabled-fill-color);\n",
              "    box-shadow: none;\n",
              "  }\n",
              "\n",
              "  .colab-df-spinner {\n",
              "    border: 2px solid var(--fill-color);\n",
              "    border-color: transparent;\n",
              "    border-bottom-color: var(--fill-color);\n",
              "    animation:\n",
              "      spin 1s steps(1) infinite;\n",
              "  }\n",
              "\n",
              "  @keyframes spin {\n",
              "    0% {\n",
              "      border-color: transparent;\n",
              "      border-bottom-color: var(--fill-color);\n",
              "      border-left-color: var(--fill-color);\n",
              "    }\n",
              "    20% {\n",
              "      border-color: transparent;\n",
              "      border-left-color: var(--fill-color);\n",
              "      border-top-color: var(--fill-color);\n",
              "    }\n",
              "    30% {\n",
              "      border-color: transparent;\n",
              "      border-left-color: var(--fill-color);\n",
              "      border-top-color: var(--fill-color);\n",
              "      border-right-color: var(--fill-color);\n",
              "    }\n",
              "    40% {\n",
              "      border-color: transparent;\n",
              "      border-right-color: var(--fill-color);\n",
              "      border-top-color: var(--fill-color);\n",
              "    }\n",
              "    60% {\n",
              "      border-color: transparent;\n",
              "      border-right-color: var(--fill-color);\n",
              "    }\n",
              "    80% {\n",
              "      border-color: transparent;\n",
              "      border-right-color: var(--fill-color);\n",
              "      border-bottom-color: var(--fill-color);\n",
              "    }\n",
              "    90% {\n",
              "      border-color: transparent;\n",
              "      border-bottom-color: var(--fill-color);\n",
              "    }\n",
              "  }\n",
              "</style>\n",
              "\n",
              "  <script>\n",
              "    async function quickchart(key) {\n",
              "      const quickchartButtonEl =\n",
              "        document.querySelector('#' + key + ' button');\n",
              "      quickchartButtonEl.disabled = true;  // To prevent multiple clicks.\n",
              "      quickchartButtonEl.classList.add('colab-df-spinner');\n",
              "      try {\n",
              "        const charts = await google.colab.kernel.invokeFunction(\n",
              "            'suggestCharts', [key], {});\n",
              "      } catch (error) {\n",
              "        console.error('Error during call to suggestCharts:', error);\n",
              "      }\n",
              "      quickchartButtonEl.classList.remove('colab-df-spinner');\n",
              "      quickchartButtonEl.classList.add('colab-df-quickchart-complete');\n",
              "    }\n",
              "    (() => {\n",
              "      let quickchartButtonEl =\n",
              "        document.querySelector('#df-43d0b9da-04d8-4a63-a22d-18d3e8ffd503 button');\n",
              "      quickchartButtonEl.style.display =\n",
              "        google.colab.kernel.accessAllowed ? 'block' : 'none';\n",
              "    })();\n",
              "  </script>\n",
              "</div>\n",
              "    </div>\n",
              "  </div>\n"
            ]
          },
          "metadata": {},
          "execution_count": 20
        }
      ]
    },
    {
      "cell_type": "markdown",
      "source": [
        "Teste de Normalização (Shapiro-Wilk)"
      ],
      "metadata": {
        "id": "7k6cH3br3ZtQ"
      }
    },
    {
      "cell_type": "code",
      "source": [
        "for coluna in titanic.columns:\n",
        "    stat, a = shapiro(titanic[coluna])\n",
        "    alpha = 0.05\n",
        "\n",
        "    if a > alpha:\n",
        "        print(f'A coluna \"{coluna}\" provavelmente segue uma distribuição normal')\n",
        "    else:\n",
        "        print(f'A coluna \"{coluna}\" provavelmente não segue uma distribuição normal')"
      ],
      "metadata": {
        "colab": {
          "base_uri": "https://localhost:8080/"
        },
        "id": "mXNdJW-eyKpU",
        "outputId": "c43ab28f-b1bd-466a-a7a3-2e68c1bf8c40"
      },
      "execution_count": null,
      "outputs": [
        {
          "output_type": "stream",
          "name": "stdout",
          "text": [
            "A coluna \"Survived\" provavelmente não segue uma distribuição normal\n",
            "A coluna \"Pclass\" provavelmente não segue uma distribuição normal\n",
            "A coluna \"Age\" provavelmente não segue uma distribuição normal\n",
            "A coluna \"Sexo_female\" provavelmente não segue uma distribuição normal\n",
            "A coluna \"Sexo_male\" provavelmente não segue uma distribuição normal\n",
            "A coluna \"Embarque_C\" provavelmente não segue uma distribuição normal\n",
            "A coluna \"Embarque_Q\" provavelmente não segue uma distribuição normal\n",
            "A coluna \"Embarque_S\" provavelmente não segue uma distribuição normal\n"
          ]
        }
      ]
    },
    {
      "cell_type": "markdown",
      "source": [
        "Visto que nenhuma coluna segue uma distribuição normal, é necessário normalizarmos os dados incluidos em cada variável, sendo assim, vamos utilizar um modelo de normalização."
      ],
      "metadata": {
        "id": "wlq0BIusyyuI"
      }
    },
    {
      "cell_type": "markdown",
      "source": [
        "Normalização dos dados do Dataset para aplicação do Modelo."
      ],
      "metadata": {
        "id": "6Olg0tKdySoI"
      }
    },
    {
      "cell_type": "markdown",
      "source": [
        "Para a normalização foi utilizada a técnica não-linear quantil-transformer e, junto a ela, o robust scaler, já que temos muitos outliers nos valores."
      ],
      "metadata": {
        "id": "Q64UsTxYdSfm"
      }
    },
    {
      "cell_type": "code",
      "source": [
        "quantile_transformer = QuantileTransformer(output_distribution='normal', random_state=42)\n",
        "\n",
        "titanic = quantile_transformer.fit_transform(titanic)\n",
        "colunas = ['Survived', 'Pclass', 'Age', 'Sexo_female', 'Sexo_male', 'Embarque_C', 'Embarque_Q', 'Embarque_S']\n",
        "\n",
        "titanic_normalized = pd.DataFrame(titanic, columns=colunas)\n",
        "titanic_normalized.head()"
      ],
      "metadata": {
        "colab": {
          "base_uri": "https://localhost:8080/"
        },
        "id": "YrTn1PJ4z57Y",
        "outputId": "125f29aa-46da-4456-e406-1053b7afb3bd"
      },
      "execution_count": null,
      "outputs": [
        {
          "output_type": "stream",
          "name": "stderr",
          "text": [
            "/usr/local/lib/python3.10/dist-packages/sklearn/preprocessing/_data.py:2627: UserWarning: n_quantiles (1000) is greater than the total number of samples (889). n_quantiles is set to n_samples.\n",
            "  warnings.warn(\n"
          ]
        },
        {
          "output_type": "execute_result",
          "data": {
            "text/plain": [
              "   Survived    Pclass       Age  Sexo_female  Sexo_male  Embarque_C  \\\n",
              "0 -5.199338  5.199338 -0.694111    -5.199338   5.199338   -5.199338   \n",
              "1  5.199338 -5.199338  0.832006     5.199338  -5.199338    5.199338   \n",
              "2  5.199338  5.199338 -0.389276     5.199338  -5.199338   -5.199338   \n",
              "3  5.199338 -5.199338  0.669184     5.199338  -5.199338   -5.199338   \n",
              "4 -5.199338  5.199338  0.669184    -5.199338   5.199338   -5.199338   \n",
              "\n",
              "   Embarque_Q  Embarque_S  \n",
              "0   -5.199338    5.199338  \n",
              "1   -5.199338   -5.199338  \n",
              "2   -5.199338    5.199338  \n",
              "3   -5.199338    5.199338  \n",
              "4   -5.199338    5.199338  "
            ],
            "text/html": [
              "\n",
              "  <div id=\"df-574c4208-d854-49d8-a084-7355d7743537\" class=\"colab-df-container\">\n",
              "    <div>\n",
              "<style scoped>\n",
              "    .dataframe tbody tr th:only-of-type {\n",
              "        vertical-align: middle;\n",
              "    }\n",
              "\n",
              "    .dataframe tbody tr th {\n",
              "        vertical-align: top;\n",
              "    }\n",
              "\n",
              "    .dataframe thead th {\n",
              "        text-align: right;\n",
              "    }\n",
              "</style>\n",
              "<table border=\"1\" class=\"dataframe\">\n",
              "  <thead>\n",
              "    <tr style=\"text-align: right;\">\n",
              "      <th></th>\n",
              "      <th>Survived</th>\n",
              "      <th>Pclass</th>\n",
              "      <th>Age</th>\n",
              "      <th>Sexo_female</th>\n",
              "      <th>Sexo_male</th>\n",
              "      <th>Embarque_C</th>\n",
              "      <th>Embarque_Q</th>\n",
              "      <th>Embarque_S</th>\n",
              "    </tr>\n",
              "  </thead>\n",
              "  <tbody>\n",
              "    <tr>\n",
              "      <th>0</th>\n",
              "      <td>-5.199338</td>\n",
              "      <td>5.199338</td>\n",
              "      <td>-0.694111</td>\n",
              "      <td>-5.199338</td>\n",
              "      <td>5.199338</td>\n",
              "      <td>-5.199338</td>\n",
              "      <td>-5.199338</td>\n",
              "      <td>5.199338</td>\n",
              "    </tr>\n",
              "    <tr>\n",
              "      <th>1</th>\n",
              "      <td>5.199338</td>\n",
              "      <td>-5.199338</td>\n",
              "      <td>0.832006</td>\n",
              "      <td>5.199338</td>\n",
              "      <td>-5.199338</td>\n",
              "      <td>5.199338</td>\n",
              "      <td>-5.199338</td>\n",
              "      <td>-5.199338</td>\n",
              "    </tr>\n",
              "    <tr>\n",
              "      <th>2</th>\n",
              "      <td>5.199338</td>\n",
              "      <td>5.199338</td>\n",
              "      <td>-0.389276</td>\n",
              "      <td>5.199338</td>\n",
              "      <td>-5.199338</td>\n",
              "      <td>-5.199338</td>\n",
              "      <td>-5.199338</td>\n",
              "      <td>5.199338</td>\n",
              "    </tr>\n",
              "    <tr>\n",
              "      <th>3</th>\n",
              "      <td>5.199338</td>\n",
              "      <td>-5.199338</td>\n",
              "      <td>0.669184</td>\n",
              "      <td>5.199338</td>\n",
              "      <td>-5.199338</td>\n",
              "      <td>-5.199338</td>\n",
              "      <td>-5.199338</td>\n",
              "      <td>5.199338</td>\n",
              "    </tr>\n",
              "    <tr>\n",
              "      <th>4</th>\n",
              "      <td>-5.199338</td>\n",
              "      <td>5.199338</td>\n",
              "      <td>0.669184</td>\n",
              "      <td>-5.199338</td>\n",
              "      <td>5.199338</td>\n",
              "      <td>-5.199338</td>\n",
              "      <td>-5.199338</td>\n",
              "      <td>5.199338</td>\n",
              "    </tr>\n",
              "  </tbody>\n",
              "</table>\n",
              "</div>\n",
              "    <div class=\"colab-df-buttons\">\n",
              "\n",
              "  <div class=\"colab-df-container\">\n",
              "    <button class=\"colab-df-convert\" onclick=\"convertToInteractive('df-574c4208-d854-49d8-a084-7355d7743537')\"\n",
              "            title=\"Convert this dataframe to an interactive table.\"\n",
              "            style=\"display:none;\">\n",
              "\n",
              "  <svg xmlns=\"http://www.w3.org/2000/svg\" height=\"24px\" viewBox=\"0 -960 960 960\">\n",
              "    <path d=\"M120-120v-720h720v720H120Zm60-500h600v-160H180v160Zm220 220h160v-160H400v160Zm0 220h160v-160H400v160ZM180-400h160v-160H180v160Zm440 0h160v-160H620v160ZM180-180h160v-160H180v160Zm440 0h160v-160H620v160Z\"/>\n",
              "  </svg>\n",
              "    </button>\n",
              "\n",
              "  <style>\n",
              "    .colab-df-container {\n",
              "      display:flex;\n",
              "      gap: 12px;\n",
              "    }\n",
              "\n",
              "    .colab-df-convert {\n",
              "      background-color: #E8F0FE;\n",
              "      border: none;\n",
              "      border-radius: 50%;\n",
              "      cursor: pointer;\n",
              "      display: none;\n",
              "      fill: #1967D2;\n",
              "      height: 32px;\n",
              "      padding: 0 0 0 0;\n",
              "      width: 32px;\n",
              "    }\n",
              "\n",
              "    .colab-df-convert:hover {\n",
              "      background-color: #E2EBFA;\n",
              "      box-shadow: 0px 1px 2px rgba(60, 64, 67, 0.3), 0px 1px 3px 1px rgba(60, 64, 67, 0.15);\n",
              "      fill: #174EA6;\n",
              "    }\n",
              "\n",
              "    .colab-df-buttons div {\n",
              "      margin-bottom: 4px;\n",
              "    }\n",
              "\n",
              "    [theme=dark] .colab-df-convert {\n",
              "      background-color: #3B4455;\n",
              "      fill: #D2E3FC;\n",
              "    }\n",
              "\n",
              "    [theme=dark] .colab-df-convert:hover {\n",
              "      background-color: #434B5C;\n",
              "      box-shadow: 0px 1px 3px 1px rgba(0, 0, 0, 0.15);\n",
              "      filter: drop-shadow(0px 1px 2px rgba(0, 0, 0, 0.3));\n",
              "      fill: #FFFFFF;\n",
              "    }\n",
              "  </style>\n",
              "\n",
              "    <script>\n",
              "      const buttonEl =\n",
              "        document.querySelector('#df-574c4208-d854-49d8-a084-7355d7743537 button.colab-df-convert');\n",
              "      buttonEl.style.display =\n",
              "        google.colab.kernel.accessAllowed ? 'block' : 'none';\n",
              "\n",
              "      async function convertToInteractive(key) {\n",
              "        const element = document.querySelector('#df-574c4208-d854-49d8-a084-7355d7743537');\n",
              "        const dataTable =\n",
              "          await google.colab.kernel.invokeFunction('convertToInteractive',\n",
              "                                                    [key], {});\n",
              "        if (!dataTable) return;\n",
              "\n",
              "        const docLinkHtml = 'Like what you see? Visit the ' +\n",
              "          '<a target=\"_blank\" href=https://colab.research.google.com/notebooks/data_table.ipynb>data table notebook</a>'\n",
              "          + ' to learn more about interactive tables.';\n",
              "        element.innerHTML = '';\n",
              "        dataTable['output_type'] = 'display_data';\n",
              "        await google.colab.output.renderOutput(dataTable, element);\n",
              "        const docLink = document.createElement('div');\n",
              "        docLink.innerHTML = docLinkHtml;\n",
              "        element.appendChild(docLink);\n",
              "      }\n",
              "    </script>\n",
              "  </div>\n",
              "\n",
              "\n",
              "<div id=\"df-b63140bb-f36d-4b85-8f0f-bb3ac477b24f\">\n",
              "  <button class=\"colab-df-quickchart\" onclick=\"quickchart('df-b63140bb-f36d-4b85-8f0f-bb3ac477b24f')\"\n",
              "            title=\"Suggest charts.\"\n",
              "            style=\"display:none;\">\n",
              "\n",
              "<svg xmlns=\"http://www.w3.org/2000/svg\" height=\"24px\"viewBox=\"0 0 24 24\"\n",
              "     width=\"24px\">\n",
              "    <g>\n",
              "        <path d=\"M19 3H5c-1.1 0-2 .9-2 2v14c0 1.1.9 2 2 2h14c1.1 0 2-.9 2-2V5c0-1.1-.9-2-2-2zM9 17H7v-7h2v7zm4 0h-2V7h2v10zm4 0h-2v-4h2v4z\"/>\n",
              "    </g>\n",
              "</svg>\n",
              "  </button>\n",
              "\n",
              "<style>\n",
              "  .colab-df-quickchart {\n",
              "      --bg-color: #E8F0FE;\n",
              "      --fill-color: #1967D2;\n",
              "      --hover-bg-color: #E2EBFA;\n",
              "      --hover-fill-color: #174EA6;\n",
              "      --disabled-fill-color: #AAA;\n",
              "      --disabled-bg-color: #DDD;\n",
              "  }\n",
              "\n",
              "  [theme=dark] .colab-df-quickchart {\n",
              "      --bg-color: #3B4455;\n",
              "      --fill-color: #D2E3FC;\n",
              "      --hover-bg-color: #434B5C;\n",
              "      --hover-fill-color: #FFFFFF;\n",
              "      --disabled-bg-color: #3B4455;\n",
              "      --disabled-fill-color: #666;\n",
              "  }\n",
              "\n",
              "  .colab-df-quickchart {\n",
              "    background-color: var(--bg-color);\n",
              "    border: none;\n",
              "    border-radius: 50%;\n",
              "    cursor: pointer;\n",
              "    display: none;\n",
              "    fill: var(--fill-color);\n",
              "    height: 32px;\n",
              "    padding: 0;\n",
              "    width: 32px;\n",
              "  }\n",
              "\n",
              "  .colab-df-quickchart:hover {\n",
              "    background-color: var(--hover-bg-color);\n",
              "    box-shadow: 0 1px 2px rgba(60, 64, 67, 0.3), 0 1px 3px 1px rgba(60, 64, 67, 0.15);\n",
              "    fill: var(--button-hover-fill-color);\n",
              "  }\n",
              "\n",
              "  .colab-df-quickchart-complete:disabled,\n",
              "  .colab-df-quickchart-complete:disabled:hover {\n",
              "    background-color: var(--disabled-bg-color);\n",
              "    fill: var(--disabled-fill-color);\n",
              "    box-shadow: none;\n",
              "  }\n",
              "\n",
              "  .colab-df-spinner {\n",
              "    border: 2px solid var(--fill-color);\n",
              "    border-color: transparent;\n",
              "    border-bottom-color: var(--fill-color);\n",
              "    animation:\n",
              "      spin 1s steps(1) infinite;\n",
              "  }\n",
              "\n",
              "  @keyframes spin {\n",
              "    0% {\n",
              "      border-color: transparent;\n",
              "      border-bottom-color: var(--fill-color);\n",
              "      border-left-color: var(--fill-color);\n",
              "    }\n",
              "    20% {\n",
              "      border-color: transparent;\n",
              "      border-left-color: var(--fill-color);\n",
              "      border-top-color: var(--fill-color);\n",
              "    }\n",
              "    30% {\n",
              "      border-color: transparent;\n",
              "      border-left-color: var(--fill-color);\n",
              "      border-top-color: var(--fill-color);\n",
              "      border-right-color: var(--fill-color);\n",
              "    }\n",
              "    40% {\n",
              "      border-color: transparent;\n",
              "      border-right-color: var(--fill-color);\n",
              "      border-top-color: var(--fill-color);\n",
              "    }\n",
              "    60% {\n",
              "      border-color: transparent;\n",
              "      border-right-color: var(--fill-color);\n",
              "    }\n",
              "    80% {\n",
              "      border-color: transparent;\n",
              "      border-right-color: var(--fill-color);\n",
              "      border-bottom-color: var(--fill-color);\n",
              "    }\n",
              "    90% {\n",
              "      border-color: transparent;\n",
              "      border-bottom-color: var(--fill-color);\n",
              "    }\n",
              "  }\n",
              "</style>\n",
              "\n",
              "  <script>\n",
              "    async function quickchart(key) {\n",
              "      const quickchartButtonEl =\n",
              "        document.querySelector('#' + key + ' button');\n",
              "      quickchartButtonEl.disabled = true;  // To prevent multiple clicks.\n",
              "      quickchartButtonEl.classList.add('colab-df-spinner');\n",
              "      try {\n",
              "        const charts = await google.colab.kernel.invokeFunction(\n",
              "            'suggestCharts', [key], {});\n",
              "      } catch (error) {\n",
              "        console.error('Error during call to suggestCharts:', error);\n",
              "      }\n",
              "      quickchartButtonEl.classList.remove('colab-df-spinner');\n",
              "      quickchartButtonEl.classList.add('colab-df-quickchart-complete');\n",
              "    }\n",
              "    (() => {\n",
              "      let quickchartButtonEl =\n",
              "        document.querySelector('#df-b63140bb-f36d-4b85-8f0f-bb3ac477b24f button');\n",
              "      quickchartButtonEl.style.display =\n",
              "        google.colab.kernel.accessAllowed ? 'block' : 'none';\n",
              "    })();\n",
              "  </script>\n",
              "</div>\n",
              "    </div>\n",
              "  </div>\n"
            ]
          },
          "metadata": {},
          "execution_count": 22
        }
      ]
    },
    {
      "cell_type": "code",
      "source": [
        "scaler = RobustScaler()\n",
        "data_scaled = scaler.fit(titanic_normalized).transform(titanic_normalized)\n",
        "\n",
        "colunas = ['Survived', 'Pclass', 'Age', 'Sexo_female', 'Sexo_male', 'Embarque_C', 'Embarque_Q', 'Embarque_S']\n",
        "\n",
        "data_scaled = pd.DataFrame(data_scaled, columns=colunas)\n",
        "data_scaled.head()"
      ],
      "metadata": {
        "id": "IFXs8PWo6Hwh",
        "colab": {
          "base_uri": "https://localhost:8080/"
        },
        "outputId": "7ca1d52e-8ada-4596-8840-9ab4c6d1e171"
      },
      "execution_count": null,
      "outputs": [
        {
          "output_type": "execute_result",
          "data": {
            "text/plain": [
              "   Survived    Pclass       Age  Sexo_female  Sexo_male  Embarque_C  \\\n",
              "0       0.0  0.000000 -0.567178          0.0        0.0    0.000000   \n",
              "1       1.0 -1.856634  0.552255          1.0       -1.0   10.398675   \n",
              "2       1.0  0.000000 -0.343577          1.0       -1.0    0.000000   \n",
              "3       1.0 -1.856634  0.432822          1.0       -1.0    0.000000   \n",
              "4       0.0  0.000000  0.432822          0.0        0.0    0.000000   \n",
              "\n",
              "   Embarque_Q  Embarque_S  \n",
              "0         0.0         0.0  \n",
              "1         0.0        -1.0  \n",
              "2         0.0         0.0  \n",
              "3         0.0         0.0  \n",
              "4         0.0         0.0  "
            ],
            "text/html": [
              "\n",
              "  <div id=\"df-49c86dcf-6fb3-49ac-88fa-be16326db07c\" class=\"colab-df-container\">\n",
              "    <div>\n",
              "<style scoped>\n",
              "    .dataframe tbody tr th:only-of-type {\n",
              "        vertical-align: middle;\n",
              "    }\n",
              "\n",
              "    .dataframe tbody tr th {\n",
              "        vertical-align: top;\n",
              "    }\n",
              "\n",
              "    .dataframe thead th {\n",
              "        text-align: right;\n",
              "    }\n",
              "</style>\n",
              "<table border=\"1\" class=\"dataframe\">\n",
              "  <thead>\n",
              "    <tr style=\"text-align: right;\">\n",
              "      <th></th>\n",
              "      <th>Survived</th>\n",
              "      <th>Pclass</th>\n",
              "      <th>Age</th>\n",
              "      <th>Sexo_female</th>\n",
              "      <th>Sexo_male</th>\n",
              "      <th>Embarque_C</th>\n",
              "      <th>Embarque_Q</th>\n",
              "      <th>Embarque_S</th>\n",
              "    </tr>\n",
              "  </thead>\n",
              "  <tbody>\n",
              "    <tr>\n",
              "      <th>0</th>\n",
              "      <td>0.0</td>\n",
              "      <td>0.000000</td>\n",
              "      <td>-0.567178</td>\n",
              "      <td>0.0</td>\n",
              "      <td>0.0</td>\n",
              "      <td>0.000000</td>\n",
              "      <td>0.0</td>\n",
              "      <td>0.0</td>\n",
              "    </tr>\n",
              "    <tr>\n",
              "      <th>1</th>\n",
              "      <td>1.0</td>\n",
              "      <td>-1.856634</td>\n",
              "      <td>0.552255</td>\n",
              "      <td>1.0</td>\n",
              "      <td>-1.0</td>\n",
              "      <td>10.398675</td>\n",
              "      <td>0.0</td>\n",
              "      <td>-1.0</td>\n",
              "    </tr>\n",
              "    <tr>\n",
              "      <th>2</th>\n",
              "      <td>1.0</td>\n",
              "      <td>0.000000</td>\n",
              "      <td>-0.343577</td>\n",
              "      <td>1.0</td>\n",
              "      <td>-1.0</td>\n",
              "      <td>0.000000</td>\n",
              "      <td>0.0</td>\n",
              "      <td>0.0</td>\n",
              "    </tr>\n",
              "    <tr>\n",
              "      <th>3</th>\n",
              "      <td>1.0</td>\n",
              "      <td>-1.856634</td>\n",
              "      <td>0.432822</td>\n",
              "      <td>1.0</td>\n",
              "      <td>-1.0</td>\n",
              "      <td>0.000000</td>\n",
              "      <td>0.0</td>\n",
              "      <td>0.0</td>\n",
              "    </tr>\n",
              "    <tr>\n",
              "      <th>4</th>\n",
              "      <td>0.0</td>\n",
              "      <td>0.000000</td>\n",
              "      <td>0.432822</td>\n",
              "      <td>0.0</td>\n",
              "      <td>0.0</td>\n",
              "      <td>0.000000</td>\n",
              "      <td>0.0</td>\n",
              "      <td>0.0</td>\n",
              "    </tr>\n",
              "  </tbody>\n",
              "</table>\n",
              "</div>\n",
              "    <div class=\"colab-df-buttons\">\n",
              "\n",
              "  <div class=\"colab-df-container\">\n",
              "    <button class=\"colab-df-convert\" onclick=\"convertToInteractive('df-49c86dcf-6fb3-49ac-88fa-be16326db07c')\"\n",
              "            title=\"Convert this dataframe to an interactive table.\"\n",
              "            style=\"display:none;\">\n",
              "\n",
              "  <svg xmlns=\"http://www.w3.org/2000/svg\" height=\"24px\" viewBox=\"0 -960 960 960\">\n",
              "    <path d=\"M120-120v-720h720v720H120Zm60-500h600v-160H180v160Zm220 220h160v-160H400v160Zm0 220h160v-160H400v160ZM180-400h160v-160H180v160Zm440 0h160v-160H620v160ZM180-180h160v-160H180v160Zm440 0h160v-160H620v160Z\"/>\n",
              "  </svg>\n",
              "    </button>\n",
              "\n",
              "  <style>\n",
              "    .colab-df-container {\n",
              "      display:flex;\n",
              "      gap: 12px;\n",
              "    }\n",
              "\n",
              "    .colab-df-convert {\n",
              "      background-color: #E8F0FE;\n",
              "      border: none;\n",
              "      border-radius: 50%;\n",
              "      cursor: pointer;\n",
              "      display: none;\n",
              "      fill: #1967D2;\n",
              "      height: 32px;\n",
              "      padding: 0 0 0 0;\n",
              "      width: 32px;\n",
              "    }\n",
              "\n",
              "    .colab-df-convert:hover {\n",
              "      background-color: #E2EBFA;\n",
              "      box-shadow: 0px 1px 2px rgba(60, 64, 67, 0.3), 0px 1px 3px 1px rgba(60, 64, 67, 0.15);\n",
              "      fill: #174EA6;\n",
              "    }\n",
              "\n",
              "    .colab-df-buttons div {\n",
              "      margin-bottom: 4px;\n",
              "    }\n",
              "\n",
              "    [theme=dark] .colab-df-convert {\n",
              "      background-color: #3B4455;\n",
              "      fill: #D2E3FC;\n",
              "    }\n",
              "\n",
              "    [theme=dark] .colab-df-convert:hover {\n",
              "      background-color: #434B5C;\n",
              "      box-shadow: 0px 1px 3px 1px rgba(0, 0, 0, 0.15);\n",
              "      filter: drop-shadow(0px 1px 2px rgba(0, 0, 0, 0.3));\n",
              "      fill: #FFFFFF;\n",
              "    }\n",
              "  </style>\n",
              "\n",
              "    <script>\n",
              "      const buttonEl =\n",
              "        document.querySelector('#df-49c86dcf-6fb3-49ac-88fa-be16326db07c button.colab-df-convert');\n",
              "      buttonEl.style.display =\n",
              "        google.colab.kernel.accessAllowed ? 'block' : 'none';\n",
              "\n",
              "      async function convertToInteractive(key) {\n",
              "        const element = document.querySelector('#df-49c86dcf-6fb3-49ac-88fa-be16326db07c');\n",
              "        const dataTable =\n",
              "          await google.colab.kernel.invokeFunction('convertToInteractive',\n",
              "                                                    [key], {});\n",
              "        if (!dataTable) return;\n",
              "\n",
              "        const docLinkHtml = 'Like what you see? Visit the ' +\n",
              "          '<a target=\"_blank\" href=https://colab.research.google.com/notebooks/data_table.ipynb>data table notebook</a>'\n",
              "          + ' to learn more about interactive tables.';\n",
              "        element.innerHTML = '';\n",
              "        dataTable['output_type'] = 'display_data';\n",
              "        await google.colab.output.renderOutput(dataTable, element);\n",
              "        const docLink = document.createElement('div');\n",
              "        docLink.innerHTML = docLinkHtml;\n",
              "        element.appendChild(docLink);\n",
              "      }\n",
              "    </script>\n",
              "  </div>\n",
              "\n",
              "\n",
              "<div id=\"df-4c12a044-499a-4b41-8dde-22c75a3faddb\">\n",
              "  <button class=\"colab-df-quickchart\" onclick=\"quickchart('df-4c12a044-499a-4b41-8dde-22c75a3faddb')\"\n",
              "            title=\"Suggest charts.\"\n",
              "            style=\"display:none;\">\n",
              "\n",
              "<svg xmlns=\"http://www.w3.org/2000/svg\" height=\"24px\"viewBox=\"0 0 24 24\"\n",
              "     width=\"24px\">\n",
              "    <g>\n",
              "        <path d=\"M19 3H5c-1.1 0-2 .9-2 2v14c0 1.1.9 2 2 2h14c1.1 0 2-.9 2-2V5c0-1.1-.9-2-2-2zM9 17H7v-7h2v7zm4 0h-2V7h2v10zm4 0h-2v-4h2v4z\"/>\n",
              "    </g>\n",
              "</svg>\n",
              "  </button>\n",
              "\n",
              "<style>\n",
              "  .colab-df-quickchart {\n",
              "      --bg-color: #E8F0FE;\n",
              "      --fill-color: #1967D2;\n",
              "      --hover-bg-color: #E2EBFA;\n",
              "      --hover-fill-color: #174EA6;\n",
              "      --disabled-fill-color: #AAA;\n",
              "      --disabled-bg-color: #DDD;\n",
              "  }\n",
              "\n",
              "  [theme=dark] .colab-df-quickchart {\n",
              "      --bg-color: #3B4455;\n",
              "      --fill-color: #D2E3FC;\n",
              "      --hover-bg-color: #434B5C;\n",
              "      --hover-fill-color: #FFFFFF;\n",
              "      --disabled-bg-color: #3B4455;\n",
              "      --disabled-fill-color: #666;\n",
              "  }\n",
              "\n",
              "  .colab-df-quickchart {\n",
              "    background-color: var(--bg-color);\n",
              "    border: none;\n",
              "    border-radius: 50%;\n",
              "    cursor: pointer;\n",
              "    display: none;\n",
              "    fill: var(--fill-color);\n",
              "    height: 32px;\n",
              "    padding: 0;\n",
              "    width: 32px;\n",
              "  }\n",
              "\n",
              "  .colab-df-quickchart:hover {\n",
              "    background-color: var(--hover-bg-color);\n",
              "    box-shadow: 0 1px 2px rgba(60, 64, 67, 0.3), 0 1px 3px 1px rgba(60, 64, 67, 0.15);\n",
              "    fill: var(--button-hover-fill-color);\n",
              "  }\n",
              "\n",
              "  .colab-df-quickchart-complete:disabled,\n",
              "  .colab-df-quickchart-complete:disabled:hover {\n",
              "    background-color: var(--disabled-bg-color);\n",
              "    fill: var(--disabled-fill-color);\n",
              "    box-shadow: none;\n",
              "  }\n",
              "\n",
              "  .colab-df-spinner {\n",
              "    border: 2px solid var(--fill-color);\n",
              "    border-color: transparent;\n",
              "    border-bottom-color: var(--fill-color);\n",
              "    animation:\n",
              "      spin 1s steps(1) infinite;\n",
              "  }\n",
              "\n",
              "  @keyframes spin {\n",
              "    0% {\n",
              "      border-color: transparent;\n",
              "      border-bottom-color: var(--fill-color);\n",
              "      border-left-color: var(--fill-color);\n",
              "    }\n",
              "    20% {\n",
              "      border-color: transparent;\n",
              "      border-left-color: var(--fill-color);\n",
              "      border-top-color: var(--fill-color);\n",
              "    }\n",
              "    30% {\n",
              "      border-color: transparent;\n",
              "      border-left-color: var(--fill-color);\n",
              "      border-top-color: var(--fill-color);\n",
              "      border-right-color: var(--fill-color);\n",
              "    }\n",
              "    40% {\n",
              "      border-color: transparent;\n",
              "      border-right-color: var(--fill-color);\n",
              "      border-top-color: var(--fill-color);\n",
              "    }\n",
              "    60% {\n",
              "      border-color: transparent;\n",
              "      border-right-color: var(--fill-color);\n",
              "    }\n",
              "    80% {\n",
              "      border-color: transparent;\n",
              "      border-right-color: var(--fill-color);\n",
              "      border-bottom-color: var(--fill-color);\n",
              "    }\n",
              "    90% {\n",
              "      border-color: transparent;\n",
              "      border-bottom-color: var(--fill-color);\n",
              "    }\n",
              "  }\n",
              "</style>\n",
              "\n",
              "  <script>\n",
              "    async function quickchart(key) {\n",
              "      const quickchartButtonEl =\n",
              "        document.querySelector('#' + key + ' button');\n",
              "      quickchartButtonEl.disabled = true;  // To prevent multiple clicks.\n",
              "      quickchartButtonEl.classList.add('colab-df-spinner');\n",
              "      try {\n",
              "        const charts = await google.colab.kernel.invokeFunction(\n",
              "            'suggestCharts', [key], {});\n",
              "      } catch (error) {\n",
              "        console.error('Error during call to suggestCharts:', error);\n",
              "      }\n",
              "      quickchartButtonEl.classList.remove('colab-df-spinner');\n",
              "      quickchartButtonEl.classList.add('colab-df-quickchart-complete');\n",
              "    }\n",
              "    (() => {\n",
              "      let quickchartButtonEl =\n",
              "        document.querySelector('#df-4c12a044-499a-4b41-8dde-22c75a3faddb button');\n",
              "      quickchartButtonEl.style.display =\n",
              "        google.colab.kernel.accessAllowed ? 'block' : 'none';\n",
              "    })();\n",
              "  </script>\n",
              "</div>\n",
              "    </div>\n",
              "  </div>\n"
            ]
          },
          "metadata": {},
          "execution_count": 23
        }
      ]
    },
    {
      "cell_type": "markdown",
      "source": [
        "#### Separação das Amostras"
      ],
      "metadata": {
        "id": "LctB1m5D2IYa"
      }
    },
    {
      "cell_type": "markdown",
      "source": [
        "Utilizando o código abaixo, dividimos o Dataset em 70% para o Treinamento e 30% para o Teste, utilizando o *Método Holdout* e utilizamos a coluna Survived para realizarmos a comparação e análise dos dados."
      ],
      "metadata": {
        "id": "aPGuBo0153Jo"
      }
    },
    {
      "cell_type": "code",
      "source": [
        "y = data_scaled['Survived']\n",
        "X = data_scaled.drop('Survived', axis=1)\n",
        "\n",
        "X_training, X_test, y_training, y_test = train_test_split(X, y, test_size=0.3, random_state=42)"
      ],
      "metadata": {
        "id": "lJPAgOoBpihh"
      },
      "execution_count": null,
      "outputs": []
    },
    {
      "cell_type": "markdown",
      "source": [
        "## **k-NN**"
      ],
      "metadata": {
        "id": "n5OU7o63UFoH"
      }
    },
    {
      "cell_type": "markdown",
      "source": [
        "Implementamos o Algoritmo de Classificação de kNN, salvando cada predição do mesmo numa lista."
      ],
      "metadata": {
        "id": "qW8emOVyW7Et"
      }
    },
    {
      "cell_type": "code",
      "source": [
        "def knn_classifier(train_data, test_data, train_labels, k):\n",
        "    predictions = []\n",
        "\n",
        "    for test_instance in test_data.values:\n",
        "        distances = np.sqrt(np.sum((train_data.values - test_instance) ** 2, axis=1))\n",
        "        nearest_indices = np.argsort(distances)[:k]\n",
        "        nearest_labels = train_labels.iloc[nearest_indices]\n",
        "        predicted_class = nearest_labels.value_counts().idxmax()\n",
        "\n",
        "        predictions.append(predicted_class)\n",
        "\n",
        "    return predictions"
      ],
      "metadata": {
        "id": "8y06KbPtWcS4"
      },
      "execution_count": null,
      "outputs": []
    },
    {
      "cell_type": "markdown",
      "source": [
        "Aqui, fizemos as etapas de treinamento e teste do modelo implementado acima, utilizando inicialmente os valores de k=5."
      ],
      "metadata": {
        "id": "XFKS_4IXyBFS"
      }
    },
    {
      "cell_type": "code",
      "source": [
        "k = 5\n",
        "etapa_treinamento = knn_classifier(X_training, X_training, y_training, k)\n",
        "etapa_teste = knn_classifier(X_training, X_test, y_training, k)"
      ],
      "metadata": {
        "id": "8jBtoNg7kK1d"
      },
      "execution_count": null,
      "outputs": []
    },
    {
      "cell_type": "markdown",
      "source": [
        "Após fazer os devidos treinamentos e testes, passamos para a etapa de avaliação, onde foram feitos os cálculos da acurácia em ambos."
      ],
      "metadata": {
        "id": "xT-dn22ypcpx"
      }
    },
    {
      "cell_type": "code",
      "source": [
        "accuracy_train_percent = accuracy_score(y_training, etapa_treinamento)\n",
        "accuracy_test_percent = accuracy_score(y_test, etapa_teste)\n",
        "\n",
        "print(f'Accuracy nos dados de treinamento: {accuracy_train_percent * 100:.2f}%')\n",
        "print(f'Accuracy nos dados de teste: {accuracy_test_percent * 100:.2f}%')"
      ],
      "metadata": {
        "id": "V81xo28Zl5p8",
        "colab": {
          "base_uri": "https://localhost:8080/"
        },
        "outputId": "215083f2-8bb4-494c-b400-4b6f90fae59f"
      },
      "execution_count": null,
      "outputs": [
        {
          "output_type": "stream",
          "name": "stdout",
          "text": [
            "Accuracy nos dados de treinamento: 84.57%\n",
            "Accuracy nos dados de teste: 80.15%\n"
          ]
        }
      ]
    },
    {
      "cell_type": "markdown",
      "source": [
        "Com as duas acurácias calculadas, testamos os valores de k do nosso modelo, fazendo o cálculo da acurácia de treinamento e teste para cada um dos valores. Logo, ficou mais fácil de escolher o melhor k para o modelo, que acabou sendo 5."
      ],
      "metadata": {
        "id": "Mqgb_-r1ppN_"
      }
    },
    {
      "cell_type": "code",
      "source": [
        "valores_K = [3, 5, 7, 9, 11]\n",
        "train_accuracies = []\n",
        "test_accuracies = []\n",
        "k_values = []\n",
        "\n",
        "for k in valores_K:\n",
        "    etapa_treinamento = knn_classifier(X_training, X_training, y_training, k)\n",
        "    etapa_teste = knn_classifier(X_training, X_test, y_training, k)\n",
        "\n",
        "    accuracy_train_percent = accuracy_score(y_training, etapa_treinamento)\n",
        "    accuracy_test_percent = accuracy_score(y_test, etapa_teste)\n",
        "\n",
        "    train_accuracies.append(accuracy_train_percent)\n",
        "    test_accuracies.append(accuracy_test_percent)\n",
        "    k_values.append(k)\n",
        "\n",
        "\n",
        "for i in range(len(k_values)):\n",
        "    print(f'k = {k_values[i]},\\nAccuracy nos dados de treinamento: {train_accuracies[i] * 100:.2f}%, \\nAccuracy nos dados de teste: {test_accuracies[i] * 100:.2f}%')\n",
        "    print(\"\\n\")"
      ],
      "metadata": {
        "id": "j0-83dZUpdti",
        "colab": {
          "base_uri": "https://localhost:8080/"
        },
        "outputId": "caa4a227-6dfc-4619-cac1-642318eac32a"
      },
      "execution_count": null,
      "outputs": [
        {
          "output_type": "stream",
          "name": "stdout",
          "text": [
            "k = 3,\n",
            "Accuracy nos dados de treinamento: 86.33%, \n",
            "Accuracy nos dados de teste: 80.52%\n",
            "\n",
            "\n",
            "k = 5,\n",
            "Accuracy nos dados de treinamento: 84.57%, \n",
            "Accuracy nos dados de teste: 80.15%\n",
            "\n",
            "\n",
            "k = 7,\n",
            "Accuracy nos dados de treinamento: 83.76%, \n",
            "Accuracy nos dados de teste: 79.03%\n",
            "\n",
            "\n",
            "k = 9,\n",
            "Accuracy nos dados de treinamento: 83.12%, \n",
            "Accuracy nos dados de teste: 79.03%\n",
            "\n",
            "\n",
            "k = 11,\n",
            "Accuracy nos dados de treinamento: 82.48%, \n",
            "Accuracy nos dados de teste: 80.52%\n",
            "\n",
            "\n"
          ]
        }
      ]
    },
    {
      "cell_type": "markdown",
      "source": [
        "Fizemos um gráfico que mostra estas porcentagens, para que tenhamos uma melhor visualização do que ocorre com o crescimento de K em relação às acurácias."
      ],
      "metadata": {
        "id": "bAfajLW9q_Rc"
      }
    },
    {
      "cell_type": "code",
      "source": [
        "plt.figure(figsize=(8, 5))\n",
        "plt.plot(valores_K, train_accuracies, marker='o', label='Treinamento', linestyle='-', color='green')\n",
        "plt.plot(valores_K, test_accuracies, marker='o', label='Teste', linestyle='-', color='red')\n",
        "plt.title('Accuracy do Algoritmo de kNN para k Diferentes')\n",
        "plt.xlabel('Valor de k')\n",
        "plt.ylabel('Accuracy')\n",
        "plt.legend()\n",
        "plt.grid(True)\n",
        "plt.show()"
      ],
      "metadata": {
        "id": "ywxWPorpsPhX",
        "colab": {
          "base_uri": "https://localhost:8080/"
        },
        "outputId": "4dad8fb6-1ec7-4146-a7de-a168b2a17fb5"
      },
      "execution_count": null,
      "outputs": [
        {
          "output_type": "display_data",
          "data": {
            "text/plain": [
              "<Figure size 800x500 with 1 Axes>"
            ],
            "image/png": "[encoded data removed]"
          },
          "metadata": {}
        }
      ]
    },
    {
      "cell_type": "markdown",
      "source": [
        "O melhor valor de K no algoritmo desenvolvido, é 3, pois é o que tem uma grande acurácia tanto de treinamento quanto de teste, sem maiores diferenças entre os valores."
      ],
      "metadata": {
        "id": "RgOJtYUQPnmj"
      }
    },
    {
      "cell_type": "markdown",
      "source": [
        "### **Utilizando a Biblioteca KNeighborsClassifier**"
      ],
      "metadata": {
        "id": "c4IYx8xiuaAn"
      }
    },
    {
      "cell_type": "markdown",
      "source": [
        "O próximo passo foi utilizar a biblioteca KNeighborsClassifier para compararmos os resultados obtidos com ela com os que obtivemos antes. Para um resultado mais aproximado, utilizamos novamente k=5 no primeiro teste."
      ],
      "metadata": {
        "id": "SR_Dqx99rSBv"
      }
    },
    {
      "cell_type": "code",
      "source": [
        "k = 5\n",
        "knn = KNeighborsClassifier(n_neighbors=k)\n",
        "knn.fit(X_training, y_training)"
      ],
      "metadata": {
        "id": "F-QthzTRuK0M",
        "colab": {
          "base_uri": "https://localhost:8080/"
        },
        "outputId": "57a6b1bc-0621-4c68-d9e8-3f21920bccf7"
      },
      "execution_count": null,
      "outputs": [
        {
          "output_type": "execute_result",
          "data": {
            "text/plain": [
              "KNeighborsClassifier()"
            ],
            "text/html": [
              "<style>#sk-container-id-1 {color: black;background-color: white;}#sk-container-id-1 pre{padding: 0;}#sk-container-id-1 div.sk-toggleable {background-color: white;}#sk-container-id-1 label.sk-toggleable__label {cursor: pointer;display: block;width: 100%;margin-bottom: 0;padding: 0.3em;box-sizing: border-box;text-align: center;}#sk-container-id-1 label.sk-toggleable__label-arrow:before {content: \"▸\";float: left;margin-right: 0.25em;color: #696969;}#sk-container-id-1 label.sk-toggleable__label-arrow:hover:before {color: black;}#sk-container-id-1 div.sk-estimator:hover label.sk-toggleable__label-arrow:before {color: black;}#sk-container-id-1 div.sk-toggleable__content {max-height: 0;max-width: 0;overflow: hidden;text-align: left;background-color: #f0f8ff;}#sk-container-id-1 div.sk-toggleable__content pre {margin: 0.2em;color: black;border-radius: 0.25em;background-color: #f0f8ff;}#sk-container-id-1 input.sk-toggleable__control:checked~div.sk-toggleable__content {max-height: 200px;max-width: 100%;overflow: auto;}#sk-container-id-1 input.sk-toggleable__control:checked~label.sk-toggleable__label-arrow:before {content: \"▾\";}#sk-container-id-1 div.sk-estimator input.sk-toggleable__control:checked~label.sk-toggleable__label {background-color: #d4ebff;}#sk-container-id-1 div.sk-label input.sk-toggleable__control:checked~label.sk-toggleable__label {background-color: #d4ebff;}#sk-container-id-1 input.sk-hidden--visually {border: 0;clip: rect(1px 1px 1px 1px);clip: rect(1px, 1px, 1px, 1px);height: 1px;margin: -1px;overflow: hidden;padding: 0;position: absolute;width: 1px;}#sk-container-id-1 div.sk-estimator {font-family: monospace;background-color: #f0f8ff;border: 1px dotted black;border-radius: 0.25em;box-sizing: border-box;margin-bottom: 0.5em;}#sk-container-id-1 div.sk-estimator:hover {background-color: #d4ebff;}#sk-container-id-1 div.sk-parallel-item::after {content: \"\";width: 100%;border-bottom: 1px solid gray;flex-grow: 1;}#sk-container-id-1 div.sk-label:hover label.sk-toggleable__label {background-color: #d4ebff;}#sk-container-id-1 div.sk-serial::before {content: \"\";position: absolute;border-left: 1px solid gray;box-sizing: border-box;top: 0;bottom: 0;left: 50%;z-index: 0;}#sk-container-id-1 div.sk-serial {display: flex;flex-direction: column;align-items: center;background-color: white;padding-right: 0.2em;padding-left: 0.2em;position: relative;}#sk-container-id-1 div.sk-item {position: relative;z-index: 1;}#sk-container-id-1 div.sk-parallel {display: flex;align-items: stretch;justify-content: center;background-color: white;position: relative;}#sk-container-id-1 div.sk-item::before, #sk-container-id-1 div.sk-parallel-item::before {content: \"\";position: absolute;border-left: 1px solid gray;box-sizing: border-box;top: 0;bottom: 0;left: 50%;z-index: -1;}#sk-container-id-1 div.sk-parallel-item {display: flex;flex-direction: column;z-index: 1;position: relative;background-color: white;}#sk-container-id-1 div.sk-parallel-item:first-child::after {align-self: flex-end;width: 50%;}#sk-container-id-1 div.sk-parallel-item:last-child::after {align-self: flex-start;width: 50%;}#sk-container-id-1 div.sk-parallel-item:only-child::after {width: 0;}#sk-container-id-1 div.sk-dashed-wrapped {border: 1px dashed gray;margin: 0 0.4em 0.5em 0.4em;box-sizing: border-box;padding-bottom: 0.4em;background-color: white;}#sk-container-id-1 div.sk-label label {font-family: monospace;font-weight: bold;display: inline-block;line-height: 1.2em;}#sk-container-id-1 div.sk-label-container {text-align: center;}#sk-container-id-1 div.sk-container {/* jupyter's `normalize.less` sets `[hidden] { display: none; }` but bootstrap.min.css set `[hidden] { display: none !important; }` so we also need the `!important` here to be able to override the default hidden behavior on the sphinx rendered scikit-learn.org. See: https://github.com/scikit-learn/scikit-learn/issues/21755 */display: inline-block !important;position: relative;}#sk-container-id-1 div.sk-text-repr-fallback {display: none;}</style><div id=\"sk-container-id-1\" class=\"sk-top-container\"><div class=\"sk-text-repr-fallback\"><pre>KNeighborsClassifier()</pre><b>In a Jupyter environment, please rerun this cell to show the HTML representation or trust the notebook. <br />On GitHub, the HTML representation is unable to render, please try loading this page with nbviewer.org.</b></div><div class=\"sk-container\" hidden><div class=\"sk-item\"><div class=\"sk-estimator sk-toggleable\"><input class=\"sk-toggleable__control sk-hidden--visually\" id=\"sk-estimator-id-1\" type=\"checkbox\" checked><label for=\"sk-estimator-id-1\" class=\"sk-toggleable__label sk-toggleable__label-arrow\">KNeighborsClassifier</label><div class=\"sk-toggleable__content\"><pre>KNeighborsClassifier()</pre></div></div></div></div></div>"
            ]
          },
          "metadata": {},
          "execution_count": 30
        }
      ]
    },
    {
      "cell_type": "markdown",
      "source": [
        "Calculamos as acurácias das duas bases para o valor de k=5."
      ],
      "metadata": {
        "id": "eE8QknyJuMkV"
      }
    },
    {
      "cell_type": "code",
      "source": [
        "accuracy_train = knn.predict(X_training)\n",
        "accuracy_test = knn.predict(X_test)\n",
        "\n",
        "accuracy_train_percent = accuracy_score(y_training, accuracy_train)\n",
        "accuracy_test_percent = accuracy_score(y_test, accuracy_test)\n",
        "\n",
        "print(f'Accuracy nos dados de treinamento: {accuracy_train_percent * 100:.2f}%')\n",
        "print(f'Accuracy nos dados de teste: {accuracy_test_percent * 100:.2f}%')"
      ],
      "metadata": {
        "id": "OltVqeKxuhtk",
        "colab": {
          "base_uri": "https://localhost:8080/"
        },
        "outputId": "545abba0-fb46-4eee-dcab-79e2a15491c2"
      },
      "execution_count": null,
      "outputs": [
        {
          "output_type": "stream",
          "name": "stdout",
          "text": [
            "Accuracy nos dados de treinamento: 84.89%\n",
            "Accuracy nos dados de teste: 79.40%\n"
          ]
        }
      ]
    },
    {
      "cell_type": "markdown",
      "source": [
        "Após as acurácias do valor de k=5 serem calculadas, testamos para outros valores de k e percebemos que o melhor valor de k encontrado foi 3."
      ],
      "metadata": {
        "id": "v8mE1m3uuxwb"
      }
    },
    {
      "cell_type": "code",
      "source": [
        "valores_k = [1, 3, 5, 7, 9]\n",
        "resultados_acuracia_treinamento = []\n",
        "resultados_acuracia_teste = []\n",
        "\n",
        "for k in valores_k:\n",
        "    knn = KNeighborsClassifier(n_neighbors=k)\n",
        "    knn.fit(X_training, y_training)\n",
        "\n",
        "    accuracy_train = knn.predict(X_training)\n",
        "    accuracy_test = knn.predict(X_test)\n",
        "\n",
        "    accuracy_train_percent = accuracy_score(y_training, accuracy_train)\n",
        "    accuracy_test_percent = accuracy_score(y_test, accuracy_test)\n",
        "\n",
        "    resultados_acuracia_treinamento.append(accuracy_train_percent)\n",
        "    resultados_acuracia_teste.append(accuracy_test_percent)\n",
        "\n",
        "for i in range(len(valores_k)):\n",
        "    print(f'k = {valores_k[i]},\\nAccuracy nos dados de treinamento: {resultados_acuracia_treinamento[i] * 100:.2f}%, \\nAccuracy nos dados de teste: {resultados_acuracia_teste[i] * 100:.2f}%')\n",
        "    print(\"\\n\")"
      ],
      "metadata": {
        "id": "yVgvUEPFvgix",
        "colab": {
          "base_uri": "https://localhost:8080/"
        },
        "outputId": "19556044-2c71-4a1f-ca78-105ee6115f7d"
      },
      "execution_count": null,
      "outputs": [
        {
          "output_type": "stream",
          "name": "stdout",
          "text": [
            "k = 1,\n",
            "Accuracy nos dados de treinamento: 89.23%, \n",
            "Accuracy nos dados de teste: 77.53%\n",
            "\n",
            "\n",
            "k = 3,\n",
            "Accuracy nos dados de treinamento: 85.37%, \n",
            "Accuracy nos dados de teste: 79.40%\n",
            "\n",
            "\n",
            "k = 5,\n",
            "Accuracy nos dados de treinamento: 84.89%, \n",
            "Accuracy nos dados de teste: 79.40%\n",
            "\n",
            "\n",
            "k = 7,\n",
            "Accuracy nos dados de treinamento: 83.28%, \n",
            "Accuracy nos dados de teste: 78.28%\n",
            "\n",
            "\n",
            "k = 9,\n",
            "Accuracy nos dados de treinamento: 83.60%, \n",
            "Accuracy nos dados de teste: 78.65%\n",
            "\n",
            "\n"
          ]
        }
      ]
    },
    {
      "cell_type": "markdown",
      "source": [
        "Depois, plotamos o gráfico dos valores da acurácia de treinamento e teste, em função dos valores de k"
      ],
      "metadata": {
        "id": "A6JwEji9vMB4"
      }
    },
    {
      "cell_type": "code",
      "source": [
        "plt.figure(figsize=(8, 5))\n",
        "plt.plot(valores_k, resultados_acuracia_treinamento, marker='o', label='Treinamento', linestyle='-', color='green')\n",
        "plt.plot(valores_k, resultados_acuracia_teste, marker='o', label='Teste', linestyle='-', color='red')\n",
        "\n",
        "plt.xlabel('Valor de k')\n",
        "plt.ylabel('Accuracy')\n",
        "plt.title('Accuracy do Modelo kNN para k Diferentes (kNC)')\n",
        "plt.legend()\n",
        "\n",
        "plt.grid(True)\n",
        "plt.show()"
      ],
      "metadata": {
        "id": "D6rJGI79wI8S",
        "colab": {
          "base_uri": "https://localhost:8080/"
        },
        "outputId": "7f6e94cb-06bd-408b-97e4-1b6c71f5ca68"
      },
      "execution_count": null,
      "outputs": [
        {
          "output_type": "display_data",
          "data": {
            "text/plain": [
              "<Figure size 800x500 with 1 Axes>"
            ],
            "image/png": "[encoded data removed]"
          },
          "metadata": {}
        }
      ]
    },
    {
      "cell_type": "markdown",
      "source": [
        "Pode-se notar que o melhor valor de K utlizando a biblioteca KNeighborsClassifier, é 3 novamente, o que reitera o resultado obtido \"manualmente\", utilizando a forma anterior."
      ],
      "metadata": {
        "id": "rFdRKSmqPT_J"
      }
    },
    {
      "cell_type": "markdown",
      "source": [
        "## **Avaliação de Classificadores**"
      ],
      "metadata": {
        "id": "9-UFtrbswz67"
      }
    },
    {
      "cell_type": "markdown",
      "source": [
        "### Matriz de Confusão I"
      ],
      "metadata": {
        "id": "vhfKzLQotD_p"
      }
    },
    {
      "cell_type": "markdown",
      "source": [
        "Com o Modelo kNN realizado, vamos então, analisar o modelo e suas métricas utilizando da Matriz de Confusão para analisar os resultados:\n",
        "\n",
        "\n",
        "*   True Positive\n",
        "*   False Positive\n",
        "*   True Negative\n",
        "*   False Negative"
      ],
      "metadata": {
        "id": "rNYW4urFYOOo"
      }
    },
    {
      "cell_type": "markdown",
      "source": [
        "A partir da Matriz desenvolvida, podemos calcular as métricas do modelo sendo as seguintes:\n",
        "\n",
        "\n",
        "\n",
        "*   Precision (Precisão do Modelo)\n",
        "*   Recall (Cobertura do Modelo)\n",
        "*   Accuracy (Acurácia do Modelo)\n",
        "*   F1-Score (Resultado do Score do Modelo)"
      ],
      "metadata": {
        "id": "cGj8MvoRYjin"
      }
    },
    {
      "cell_type": "code",
      "source": [
        "plt.figure(figsize=(6, 4))\n",
        "descricao1 = ['Positive', 'Negative']\n",
        "descricao2 = ['True', 'False']\n",
        "\n",
        "cfm_teste = confusion_matrix(y_test, etapa_teste)\n",
        "cfm_teste_percent = (cfm_teste.astype('float') / cfm_teste.sum(axis=1)[:, np.newaxis]) * 100\n",
        "\n",
        "sns.heatmap(cfm_teste_percent, annot=True, fmt=\".2f\" , cmap=\"Blues\")"
      ],
      "metadata": {
        "id": "hsqArxczYzlc",
        "colab": {
          "base_uri": "https://localhost:8080/"
        },
        "outputId": "9d06225f-bf46-4d48-9edf-2b3bda5a5959"
      },
      "execution_count": null,
      "outputs": [
        {
          "output_type": "execute_result",
          "data": {
            "text/plain": [
              "<Axes: >"
            ]
          },
          "metadata": {},
          "execution_count": 34
        },
        {
          "output_type": "display_data",
          "data": {
            "text/plain": [
              "<Figure size 600x400 with 2 Axes>"
            ],
            "image/png": "[encoded data removed]"
          },
          "metadata": {}
        }
      ]
    },
    {
      "cell_type": "markdown",
      "source": [
        "#### Métricas Dados de Teste"
      ],
      "metadata": {
        "id": "QUtmnAiTRfxX"
      }
    },
    {
      "cell_type": "code",
      "source": [
        "print(classification_report(y_test, etapa_teste))"
      ],
      "metadata": {
        "id": "LArIVJ8VYi1E",
        "colab": {
          "base_uri": "https://localhost:8080/"
        },
        "outputId": "8876c3d5-d2b0-4cdf-8152-712dc44f13cd"
      },
      "execution_count": null,
      "outputs": [
        {
          "output_type": "stream",
          "name": "stdout",
          "text": [
            "              precision    recall  f1-score   support\n",
            "\n",
            "         0.0       0.81      0.90      0.85       167\n",
            "         1.0       0.79      0.65      0.71       100\n",
            "\n",
            "    accuracy                           0.81       267\n",
            "   macro avg       0.80      0.77      0.78       267\n",
            "weighted avg       0.80      0.81      0.80       267\n",
            "\n"
          ]
        }
      ]
    },
    {
      "cell_type": "markdown",
      "source": [
        "Analisando os resultados da Precisão e do Recall do modelo de teste, vemos que a porcentagem da Precisão foi de 80% e a Cobertura foi de 81% do modelo, temos então que quando o modelo certou, ou seja, em 81% dos casos, os valores de cobertura, ou seja, o que faltou acertar, é baixo, já que a porcentagem de recall foi de 81%."
      ],
      "metadata": {
        "id": "0pWnKGJXMmaP"
      }
    },
    {
      "cell_type": "code",
      "source": [
        "plt.figure(figsize=(6, 4))\n",
        "descricao1 = ['Positive', 'Negative']\n",
        "descricao2 = ['True', 'False']\n",
        "\n",
        "cfm_teste = confusion_matrix(y_training, etapa_treinamento)\n",
        "cfm_treinamento_percent = (cfm_teste.astype('float') / cfm_teste.sum(axis=1)[:, np.newaxis]) * 100\n",
        "\n",
        "sns.heatmap(cfm_treinamento_percent, annot=True, fmt=\".2f\", cmap=\"Blues\")"
      ],
      "metadata": {
        "colab": {
          "base_uri": "https://localhost:8080/"
        },
        "id": "KUj85USGcjfl",
        "outputId": "7c5e04ae-256f-471c-d415-1812171a39e9"
      },
      "execution_count": null,
      "outputs": [
        {
          "output_type": "execute_result",
          "data": {
            "text/plain": [
              "<Axes: >"
            ]
          },
          "metadata": {},
          "execution_count": 36
        },
        {
          "output_type": "display_data",
          "data": {
            "text/plain": [
              "<Figure size 600x400 with 2 Axes>"
            ],
            "image/png": "[encoded data removed]"
          },
          "metadata": {}
        }
      ]
    },
    {
      "cell_type": "markdown",
      "source": [
        "#### Métricas Dados de Treinamento"
      ],
      "metadata": {
        "id": "gY0JUXsk0693"
      }
    },
    {
      "cell_type": "code",
      "source": [
        "print(classification_report(y_training, etapa_treinamento))"
      ],
      "metadata": {
        "colab": {
          "base_uri": "https://localhost:8080/"
        },
        "id": "1LarQewRcx-C",
        "outputId": "afd9cb69-88c5-411c-fa4f-53a2b369fb71"
      },
      "execution_count": null,
      "outputs": [
        {
          "output_type": "stream",
          "name": "stdout",
          "text": [
            "              precision    recall  f1-score   support\n",
            "\n",
            "         0.0       0.81      0.93      0.87       382\n",
            "         1.0       0.86      0.65      0.74       240\n",
            "\n",
            "    accuracy                           0.82       622\n",
            "   macro avg       0.84      0.79      0.80       622\n",
            "weighted avg       0.83      0.82      0.82       622\n",
            "\n"
          ]
        }
      ]
    },
    {
      "cell_type": "markdown",
      "source": [
        "Já no modelo com os dados de treinamento, temos um valor de precisão de 83%, acima dos dados de teste, e também possuimos uma porcentagem maior em recall, com 82%, então podemos analisar que os dados treinados possuiram um maior desempenho na nossa análise."
      ],
      "metadata": {
        "id": "O1bOfFaoOEQ3"
      }
    },
    {
      "cell_type": "markdown",
      "source": [
        "### **K-Fold Cross Validation**"
      ],
      "metadata": {
        "id": "6ur9RfMLQsKk"
      }
    },
    {
      "cell_type": "markdown",
      "source": [
        "Implementamos um K-fold para utilizar cross validation no modelo k-NN aplicado acima, com 5 folds"
      ],
      "metadata": {
        "id": "9_vlUNnBvgu0"
      }
    },
    {
      "cell_type": "code",
      "source": [
        "cross_val_scores = cross_val_score(knn, X, y, cv=5)\n",
        "\n",
        "mean_accuracy = np.mean(cross_val_scores) * 100\n",
        "std_accuracy = np.std(cross_val_scores) * 100\n",
        "\n",
        "fold_accuracies = cross_val_scores * 100\n",
        "\n",
        "fold_accuracies_formatted = [\"{:.2f}%\".format(acc) for acc in fold_accuracies]\n",
        "\n",
        "print(\"Acurácias para cada fold em porcentagem:\", fold_accuracies_formatted)\n",
        "print(\"Acurácia Média em porcentagem: {:.2f}%\".format(mean_accuracy))\n",
        "print(\"Desvio Padrão da Acurácia em porcentagem: {:.2f}%\".format(std_accuracy))"
      ],
      "metadata": {
        "colab": {
          "base_uri": "https://localhost:8080/"
        },
        "id": "8ZrMDgS9R4SU",
        "outputId": "727423d3-b208-48c7-fc13-a3720874f8dc"
      },
      "execution_count": null,
      "outputs": [
        {
          "output_type": "stream",
          "name": "stdout",
          "text": [
            "Acurácias para cada fold em porcentagem: ['78.09%', '81.46%', '80.90%', '78.09%', '79.66%']\n",
            "Acurácia Média em porcentagem: 79.64%\n",
            "Desvio Padrão da Acurácia em porcentagem: 1.39%\n"
          ]
        }
      ]
    },
    {
      "cell_type": "markdown",
      "source": [
        "Avaliamos o modelo calculando as porcentagens das acurácias dos 5 folds além da acurácia média e do desvio padrão do mesmo."
      ],
      "metadata": {
        "id": "mZTyMGhTxJM3"
      }
    },
    {
      "cell_type": "markdown",
      "source": [
        "####Encontrando o melhor valor de k"
      ],
      "metadata": {
        "id": "Wi2P0VffxqVp"
      }
    },
    {
      "cell_type": "markdown",
      "source": [
        "Agora, testamos os valores de k para um maior entendimento e facilitar o processo de encontrar o melhor valor outra vez."
      ],
      "metadata": {
        "id": "fNIXb99hx3UG"
      }
    },
    {
      "cell_type": "code",
      "source": [
        "k_values = [1, 3, 5, 7, 9, 11, 13, 15]\n",
        "\n",
        "mean_error_percentages = []\n",
        "\n",
        "for k in k_values:\n",
        "    knn_model = KNeighborsClassifier(n_neighbors=k)\n",
        "\n",
        "    scores = cross_val_score(knn_model, X, y, cv=5)\n",
        "\n",
        "    mean_error_percentage = (1 - np.mean(scores)) * 100\n",
        "    mean_error_percentages.append(mean_error_percentage)\n",
        "\n",
        "best_k = k_values[np.argmin(mean_error_percentages)]\n",
        "min_mean_error_percentage = min(mean_error_percentages)\n",
        "\n",
        "mean_error_percentages_formatted = [\"{:.2f}%\".format(err) for err in mean_error_percentages]\n",
        "\n",
        "print(\"Valores de k testados:\", k_values)\n",
        "print(\"Erros médios em porcentagem:\", mean_error_percentages_formatted)\n",
        "print(\"Melhor valor de k:\", best_k)\n",
        "print(\"Menor erro médio em porcentagem: {:.2f}%\".format(min_mean_error_percentage))"
      ],
      "metadata": {
        "id": "GteISDENWqZ6",
        "colab": {
          "base_uri": "https://localhost:8080/"
        },
        "outputId": "db1bf6d7-1ef4-46f6-f447-d3ea9ca43675"
      },
      "execution_count": null,
      "outputs": [
        {
          "output_type": "stream",
          "name": "stdout",
          "text": [
            "Valores de k testados: [1, 3, 5, 7, 9, 11, 13, 15]\n",
            "Erros médios em porcentagem: ['23.51%', '20.92%', '19.57%', '21.03%', '20.36%', '20.14%', '19.46%', '19.24%']\n",
            "Melhor valor de k: 15\n",
            "Menor erro médio em porcentagem: 19.24%\n"
          ]
        }
      ]
    },
    {
      "cell_type": "markdown",
      "source": [
        "Considerando os valores médios de erro e sabendo que o menor erro médio de 19.24% foi com k=15, foi possível avaliar que este era o melhor, como mostrado no código."
      ],
      "metadata": {
        "id": "4godDoaCyRTy"
      }
    },
    {
      "cell_type": "markdown",
      "source": [
        "### Matriz de Confusão II"
      ],
      "metadata": {
        "id": "4TSGIWrubtIZ"
      }
    },
    {
      "cell_type": "markdown",
      "source": [
        "Com o Modelo K-Fold Cross Validation realizado, vamos então, analisar o modelo e suas métricas utilizando da Matriz de Confusão para analisar os resultados:\n",
        "\n",
        "\n",
        "*   True Positive\n",
        "*   False Positive\n",
        "*   True Negative\n",
        "*   False Negative"
      ],
      "metadata": {
        "id": "7qAItSkrzJFQ"
      }
    },
    {
      "cell_type": "markdown",
      "source": [
        "A partir da Matriz desenvolvida, podemos calcular as métricas do modelo sendo as seguintes:\n",
        "\n",
        "\n",
        "\n",
        "*   Precision (Precisão do Modelo)\n",
        "*   Recall (Cobertura do Modelo)\n",
        "*   Accuracy (Acurácia do Modelo)\n",
        "*   F1-Score (Resultado do Score do Modelo)"
      ],
      "metadata": {
        "id": "oUmGYRFozJqE"
      }
    },
    {
      "cell_type": "code",
      "source": [
        "knc_model = KNeighborsClassifier(n_neighbors=15)\n",
        "\n",
        "y_pred = cross_val_predict(knc_model, X, y, cv=5)\n",
        "\n",
        "confusion = confusion_matrix(y, y_pred)\n",
        "confusion_percent = (confusion.astype('float') / confusion.sum(axis=1)[:, np.newaxis]) * 100\n",
        "\n",
        "plt.figure(figsize=(6, 4))\n",
        "descricao1 = ['Positive', 'Negative']\n",
        "descricao2 = ['True', 'False']\n",
        "\n",
        "sns.heatmap(confusion_percent, annot=True, fmt=\".2f\", cmap=\"Blues\")\n",
        "plt.title(\"Matriz de Confusão Média (k=15)\")\n",
        "\n",
        "plt.show()"
      ],
      "metadata": {
        "id": "nL9l-n8ybs2F",
        "colab": {
          "base_uri": "https://localhost:8080/"
        },
        "outputId": "45b065e0-81cb-45b0-870a-3e7bf7b4a267"
      },
      "execution_count": null,
      "outputs": [
        {
          "output_type": "display_data",
          "data": {
            "text/plain": [
              "<Figure size 600x400 with 2 Axes>"
            ],
            "image/png": "[encoded data removed]"
          },
          "metadata": {}
        }
      ]
    },
    {
      "cell_type": "markdown",
      "source": [
        "Abaixo, podem ser vistas as métricas de avaliação da matriz de confusão que foram analisadas."
      ],
      "metadata": {
        "id": "Qhu_wnQccgTI"
      }
    },
    {
      "cell_type": "markdown",
      "source": [
        "#### Métricas Dados II"
      ],
      "metadata": {
        "id": "sycMi15Njto5"
      }
    },
    {
      "cell_type": "code",
      "source": [
        "knc_model = KNeighborsClassifier(n_neighbors=15)\n",
        "\n",
        "precision_scores = cross_val_score(knc_model, X, y, cv=5, scoring='precision')\n",
        "recall_scores = cross_val_score(knc_model, X, y, cv=5, scoring='recall')\n",
        "accuracy_scores = cross_val_score(knc_model, X, y, cv=5, scoring='accuracy')\n",
        "f1_scores = cross_val_score(knc_model, X, y, cv=5, scoring='f1')\n",
        "\n",
        "mean_precision = np.mean(precision_scores)*100\n",
        "mean_recall = np.mean(recall_scores)*100\n",
        "mean_accuracy = np.mean(accuracy_scores)*100\n",
        "mean_f1 = np.mean(f1_scores)*100\n",
        "\n",
        "print(\"Métricas com k=13 e validação cruzada (5 folds):\\n\")\n",
        "print(\"Porcentagem da Média da Precisão (Precision): {:.2f}%\".format(mean_precision))\n",
        "print(\"Porcentagem da Média da Cobertura (Recall): {:.2f}%\".format(mean_recall))\n",
        "print(\"Porcentagem da Média da Acurácia (Accuracy): {:.2f}%\".format(mean_accuracy))\n",
        "print(\"Porcentagem da Média do F1-Score: {:.2f}%\".format(mean_f1))"
      ],
      "metadata": {
        "id": "8QRl49IJjtZ9",
        "colab": {
          "base_uri": "https://localhost:8080/"
        },
        "outputId": "fcc6d8e8-2d44-465b-af15-46df718fafc9"
      },
      "execution_count": null,
      "outputs": [
        {
          "output_type": "stream",
          "name": "stdout",
          "text": [
            "Métricas com k=13 e validação cruzada (5 folds):\n",
            "\n",
            "Porcentagem da Média da Precisão (Precision): 83.08%\n",
            "Porcentagem da Média da Cobertura (Recall): 62.65%\n",
            "Porcentagem da Média da Acurácia (Accuracy): 80.76%\n",
            "Porcentagem da Média do F1-Score: 71.17%\n"
          ]
        }
      ]
    },
    {
      "cell_type": "markdown",
      "source": [
        "Analisando os resultados da Precisão e do Recall do modelo de teste, vemos que a porcentagem da Precisão foi de 83.08% e a Cobertura foi de 62.65% do modelo, temos então que quando o modelo acertou, ele identificou corretamente 62.65% dos casos. Como estamos desenvolvendo um modelo apenas para realizar uma análise exploratória dos dados, esta taxa de recall é aceitável, porém, caso estivessemos fazendo um projeto de alerta antecipado para desastres, teríamos de aumentar a taxa de recall."
      ],
      "metadata": {
        "id": "TX7IODo3zjRG"
      }
    }
  ]
}